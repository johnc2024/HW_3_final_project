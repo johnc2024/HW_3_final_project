{
  "cells": [
    {
      "cell_type": "markdown",
      "metadata": {
        "id": "vVFTG0FjBykl"
      },
      "source": [
        "<p align=\"center\"><h1 align=\"center\">QMSS5074GR <br> Projects in Advanced Machine Learning <br>Spring 2024 <br> FINAL PROJECT <br>Assignment 3 Part 2 Group 5<br>\n",
        "Training Report\n",
        "</h1>\n",
        "\n",
        "---\n",
        "<br>\n",
        "\n",
        "#### **Your UNI** : jc5635\n",
        "#### **Your Full Name** : John Cheng\n",
        "#### **Your AI Model Share Username**: jc5635\n",
        "#### **Link to Your Public Github Repository** : https://github.com/johnc2024/HW_3_final_project\n",
        "#### **Team Member Contribution Percentage** : 100%"
      ]
    },
    {
      "cell_type": "markdown",
      "metadata": {
        "id": "JXxGTgJz152A"
      },
      "source": [
        "## Stanford Sentiment Treebank - Movie Review Classification Competition\n"
      ]
    },
    {
      "cell_type": "markdown",
      "metadata": {
        "id": "5gSrVJwp3E9H"
      },
      "source": [
        "## 1. Get data in and set up X_train, X_test, y_train objects"
      ]
    },
    {
      "cell_type": "code",
      "execution_count": null,
      "metadata": {
        "id": "PLTIaMB3ChSW"
      },
      "outputs": [],
      "source": [
        "# install libraries\n",
        "! pip install aimodelshare\n",
        "! pip install pyspark"
      ]
    },
    {
      "cell_type": "code",
      "execution_count": null,
      "metadata": {
        "colab": {
          "base_uri": "https://localhost:8080/"
        },
        "id": "d3PiJXBhC5y-",
        "outputId": "47b46931-8d39-4857-fc7e-1312c9589ffb"
      },
      "outputs": [
        {
          "output_type": "stream",
          "name": "stdout",
          "text": [
            "Downloading [=============================================>   ]\n",
            "\n",
            "Data downloaded successfully.\n"
          ]
        }
      ],
      "source": [
        "# get competition data\n",
        "from aimodelshare import download_data\n",
        "download_data('public.ecr.aws/y2e2a1d6/sst2_competition_data-repository:latest')"
      ]
    },
    {
      "cell_type": "code",
      "execution_count": 51,
      "metadata": {
        "id": "bRe1wKfbn0Gq"
      },
      "outputs": [],
      "source": [
        "# import X_train, X_test, and y_train_labels\n",
        "import pandas as pd\n",
        "import warnings\n",
        "warnings.simplefilter(action = 'ignore', category = Warning)\n",
        "\n",
        "X_train = pd.read_csv(\"sst2_competition_data/X_train.csv\")\n",
        "X_test = pd.read_csv(\"sst2_competition_data/X_test.csv\")\n",
        "y_train_labels = pd.read_csv(\"sst2_competition_data/y_train_labels.csv\")"
      ]
    },
    {
      "cell_type": "code",
      "execution_count": null,
      "metadata": {
        "colab": {
          "base_uri": "https://localhost:8080/",
          "height": 423
        },
        "id": "yMbPJf_fwXnK",
        "outputId": "c318e9ee-2c30-4da2-a1cd-407e924b4bbb"
      },
      "outputs": [
        {
          "data": {
            "application/vnd.google.colaboratory.intrinsic+json": {
              "summary": "{\n  \"name\": \"X_train\",\n  \"rows\": 6920,\n  \"fields\": [\n    {\n      \"column\": \"text\",\n      \"properties\": {\n        \"dtype\": \"string\",\n        \"num_unique_values\": 6911,\n        \"samples\": [\n          \"Snipes is both a snore and utter tripe .\",\n          \"A wild ride juiced with enough energy and excitement for at least three films .\",\n          \"Its screenplay serves as auto-critique , and its clumsiness as its own most damning censure .\"\n        ],\n        \"semantic_type\": \"\",\n        \"description\": \"\"\n      }\n    }\n  ]\n}",
              "type": "dataframe",
              "variable_name": "X_train"
            },
            "text/html": [
              "\n",
              "  <div id=\"df-c108a352-2c77-4e71-b604-f3aeb9a20196\" class=\"colab-df-container\">\n",
              "    <div>\n",
              "<style scoped>\n",
              "    .dataframe tbody tr th:only-of-type {\n",
              "        vertical-align: middle;\n",
              "    }\n",
              "\n",
              "    .dataframe tbody tr th {\n",
              "        vertical-align: top;\n",
              "    }\n",
              "\n",
              "    .dataframe thead th {\n",
              "        text-align: right;\n",
              "    }\n",
              "</style>\n",
              "<table border=\"1\" class=\"dataframe\">\n",
              "  <thead>\n",
              "    <tr style=\"text-align: right;\">\n",
              "      <th></th>\n",
              "      <th>text</th>\n",
              "    </tr>\n",
              "  </thead>\n",
              "  <tbody>\n",
              "    <tr>\n",
              "      <th>0</th>\n",
              "      <td>The Rock is destined to be the 21st Century 's...</td>\n",
              "    </tr>\n",
              "    <tr>\n",
              "      <th>1</th>\n",
              "      <td>The gorgeously elaborate continuation of `` Th...</td>\n",
              "    </tr>\n",
              "    <tr>\n",
              "      <th>2</th>\n",
              "      <td>Singer/composer Bryan Adams contributes a slew...</td>\n",
              "    </tr>\n",
              "    <tr>\n",
              "      <th>3</th>\n",
              "      <td>Yet the act is still charming here .</td>\n",
              "    </tr>\n",
              "    <tr>\n",
              "      <th>4</th>\n",
              "      <td>Whether or not you 're enlightened by any of D...</td>\n",
              "    </tr>\n",
              "    <tr>\n",
              "      <th>...</th>\n",
              "      <td>...</td>\n",
              "    </tr>\n",
              "    <tr>\n",
              "      <th>6915</th>\n",
              "      <td>A real snooze .</td>\n",
              "    </tr>\n",
              "    <tr>\n",
              "      <th>6916</th>\n",
              "      <td>No surprises .</td>\n",
              "    </tr>\n",
              "    <tr>\n",
              "      <th>6917</th>\n",
              "      <td>We 've seen the hippie-turned-yuppie plot befo...</td>\n",
              "    </tr>\n",
              "    <tr>\n",
              "      <th>6918</th>\n",
              "      <td>Her fans walked out muttering words like `` ho...</td>\n",
              "    </tr>\n",
              "    <tr>\n",
              "      <th>6919</th>\n",
              "      <td>In this case zero .</td>\n",
              "    </tr>\n",
              "  </tbody>\n",
              "</table>\n",
              "<p>6920 rows × 1 columns</p>\n",
              "</div>\n",
              "    <div class=\"colab-df-buttons\">\n",
              "\n",
              "  <div class=\"colab-df-container\">\n",
              "    <button class=\"colab-df-convert\" onclick=\"convertToInteractive('df-c108a352-2c77-4e71-b604-f3aeb9a20196')\"\n",
              "            title=\"Convert this dataframe to an interactive table.\"\n",
              "            style=\"display:none;\">\n",
              "\n",
              "  <svg xmlns=\"http://www.w3.org/2000/svg\" height=\"24px\" viewBox=\"0 -960 960 960\">\n",
              "    <path d=\"M120-120v-720h720v720H120Zm60-500h600v-160H180v160Zm220 220h160v-160H400v160Zm0 220h160v-160H400v160ZM180-400h160v-160H180v160Zm440 0h160v-160H620v160ZM180-180h160v-160H180v160Zm440 0h160v-160H620v160Z\"/>\n",
              "  </svg>\n",
              "    </button>\n",
              "\n",
              "  <style>\n",
              "    .colab-df-container {\n",
              "      display:flex;\n",
              "      gap: 12px;\n",
              "    }\n",
              "\n",
              "    .colab-df-convert {\n",
              "      background-color: #E8F0FE;\n",
              "      border: none;\n",
              "      border-radius: 50%;\n",
              "      cursor: pointer;\n",
              "      display: none;\n",
              "      fill: #1967D2;\n",
              "      height: 32px;\n",
              "      padding: 0 0 0 0;\n",
              "      width: 32px;\n",
              "    }\n",
              "\n",
              "    .colab-df-convert:hover {\n",
              "      background-color: #E2EBFA;\n",
              "      box-shadow: 0px 1px 2px rgba(60, 64, 67, 0.3), 0px 1px 3px 1px rgba(60, 64, 67, 0.15);\n",
              "      fill: #174EA6;\n",
              "    }\n",
              "\n",
              "    .colab-df-buttons div {\n",
              "      margin-bottom: 4px;\n",
              "    }\n",
              "\n",
              "    [theme=dark] .colab-df-convert {\n",
              "      background-color: #3B4455;\n",
              "      fill: #D2E3FC;\n",
              "    }\n",
              "\n",
              "    [theme=dark] .colab-df-convert:hover {\n",
              "      background-color: #434B5C;\n",
              "      box-shadow: 0px 1px 3px 1px rgba(0, 0, 0, 0.15);\n",
              "      filter: drop-shadow(0px 1px 2px rgba(0, 0, 0, 0.3));\n",
              "      fill: #FFFFFF;\n",
              "    }\n",
              "  </style>\n",
              "\n",
              "    <script>\n",
              "      const buttonEl =\n",
              "        document.querySelector('#df-c108a352-2c77-4e71-b604-f3aeb9a20196 button.colab-df-convert');\n",
              "      buttonEl.style.display =\n",
              "        google.colab.kernel.accessAllowed ? 'block' : 'none';\n",
              "\n",
              "      async function convertToInteractive(key) {\n",
              "        const element = document.querySelector('#df-c108a352-2c77-4e71-b604-f3aeb9a20196');\n",
              "        const dataTable =\n",
              "          await google.colab.kernel.invokeFunction('convertToInteractive',\n",
              "                                                    [key], {});\n",
              "        if (!dataTable) return;\n",
              "\n",
              "        const docLinkHtml = 'Like what you see? Visit the ' +\n",
              "          '<a target=\"_blank\" href=https://colab.research.google.com/notebooks/data_table.ipynb>data table notebook</a>'\n",
              "          + ' to learn more about interactive tables.';\n",
              "        element.innerHTML = '';\n",
              "        dataTable['output_type'] = 'display_data';\n",
              "        await google.colab.output.renderOutput(dataTable, element);\n",
              "        const docLink = document.createElement('div');\n",
              "        docLink.innerHTML = docLinkHtml;\n",
              "        element.appendChild(docLink);\n",
              "      }\n",
              "    </script>\n",
              "  </div>\n",
              "\n",
              "\n",
              "<div id=\"df-60525806-6f69-4409-9880-93928e26f8d7\">\n",
              "  <button class=\"colab-df-quickchart\" onclick=\"quickchart('df-60525806-6f69-4409-9880-93928e26f8d7')\"\n",
              "            title=\"Suggest charts\"\n",
              "            style=\"display:none;\">\n",
              "\n",
              "<svg xmlns=\"http://www.w3.org/2000/svg\" height=\"24px\"viewBox=\"0 0 24 24\"\n",
              "     width=\"24px\">\n",
              "    <g>\n",
              "        <path d=\"M19 3H5c-1.1 0-2 .9-2 2v14c0 1.1.9 2 2 2h14c1.1 0 2-.9 2-2V5c0-1.1-.9-2-2-2zM9 17H7v-7h2v7zm4 0h-2V7h2v10zm4 0h-2v-4h2v4z\"/>\n",
              "    </g>\n",
              "</svg>\n",
              "  </button>\n",
              "\n",
              "<style>\n",
              "  .colab-df-quickchart {\n",
              "      --bg-color: #E8F0FE;\n",
              "      --fill-color: #1967D2;\n",
              "      --hover-bg-color: #E2EBFA;\n",
              "      --hover-fill-color: #174EA6;\n",
              "      --disabled-fill-color: #AAA;\n",
              "      --disabled-bg-color: #DDD;\n",
              "  }\n",
              "\n",
              "  [theme=dark] .colab-df-quickchart {\n",
              "      --bg-color: #3B4455;\n",
              "      --fill-color: #D2E3FC;\n",
              "      --hover-bg-color: #434B5C;\n",
              "      --hover-fill-color: #FFFFFF;\n",
              "      --disabled-bg-color: #3B4455;\n",
              "      --disabled-fill-color: #666;\n",
              "  }\n",
              "\n",
              "  .colab-df-quickchart {\n",
              "    background-color: var(--bg-color);\n",
              "    border: none;\n",
              "    border-radius: 50%;\n",
              "    cursor: pointer;\n",
              "    display: none;\n",
              "    fill: var(--fill-color);\n",
              "    height: 32px;\n",
              "    padding: 0;\n",
              "    width: 32px;\n",
              "  }\n",
              "\n",
              "  .colab-df-quickchart:hover {\n",
              "    background-color: var(--hover-bg-color);\n",
              "    box-shadow: 0 1px 2px rgba(60, 64, 67, 0.3), 0 1px 3px 1px rgba(60, 64, 67, 0.15);\n",
              "    fill: var(--button-hover-fill-color);\n",
              "  }\n",
              "\n",
              "  .colab-df-quickchart-complete:disabled,\n",
              "  .colab-df-quickchart-complete:disabled:hover {\n",
              "    background-color: var(--disabled-bg-color);\n",
              "    fill: var(--disabled-fill-color);\n",
              "    box-shadow: none;\n",
              "  }\n",
              "\n",
              "  .colab-df-spinner {\n",
              "    border: 2px solid var(--fill-color);\n",
              "    border-color: transparent;\n",
              "    border-bottom-color: var(--fill-color);\n",
              "    animation:\n",
              "      spin 1s steps(1) infinite;\n",
              "  }\n",
              "\n",
              "  @keyframes spin {\n",
              "    0% {\n",
              "      border-color: transparent;\n",
              "      border-bottom-color: var(--fill-color);\n",
              "      border-left-color: var(--fill-color);\n",
              "    }\n",
              "    20% {\n",
              "      border-color: transparent;\n",
              "      border-left-color: var(--fill-color);\n",
              "      border-top-color: var(--fill-color);\n",
              "    }\n",
              "    30% {\n",
              "      border-color: transparent;\n",
              "      border-left-color: var(--fill-color);\n",
              "      border-top-color: var(--fill-color);\n",
              "      border-right-color: var(--fill-color);\n",
              "    }\n",
              "    40% {\n",
              "      border-color: transparent;\n",
              "      border-right-color: var(--fill-color);\n",
              "      border-top-color: var(--fill-color);\n",
              "    }\n",
              "    60% {\n",
              "      border-color: transparent;\n",
              "      border-right-color: var(--fill-color);\n",
              "    }\n",
              "    80% {\n",
              "      border-color: transparent;\n",
              "      border-right-color: var(--fill-color);\n",
              "      border-bottom-color: var(--fill-color);\n",
              "    }\n",
              "    90% {\n",
              "      border-color: transparent;\n",
              "      border-bottom-color: var(--fill-color);\n",
              "    }\n",
              "  }\n",
              "</style>\n",
              "\n",
              "  <script>\n",
              "    async function quickchart(key) {\n",
              "      const quickchartButtonEl =\n",
              "        document.querySelector('#' + key + ' button');\n",
              "      quickchartButtonEl.disabled = true;  // To prevent multiple clicks.\n",
              "      quickchartButtonEl.classList.add('colab-df-spinner');\n",
              "      try {\n",
              "        const charts = await google.colab.kernel.invokeFunction(\n",
              "            'suggestCharts', [key], {});\n",
              "      } catch (error) {\n",
              "        console.error('Error during call to suggestCharts:', error);\n",
              "      }\n",
              "      quickchartButtonEl.classList.remove('colab-df-spinner');\n",
              "      quickchartButtonEl.classList.add('colab-df-quickchart-complete');\n",
              "    }\n",
              "    (() => {\n",
              "      let quickchartButtonEl =\n",
              "        document.querySelector('#df-60525806-6f69-4409-9880-93928e26f8d7 button');\n",
              "      quickchartButtonEl.style.display =\n",
              "        google.colab.kernel.accessAllowed ? 'block' : 'none';\n",
              "    })();\n",
              "  </script>\n",
              "</div>\n",
              "\n",
              "  <div id=\"id_161c4a53-0446-42ac-8ae1-7c631959c015\">\n",
              "    <style>\n",
              "      .colab-df-generate {\n",
              "        background-color: #E8F0FE;\n",
              "        border: none;\n",
              "        border-radius: 50%;\n",
              "        cursor: pointer;\n",
              "        display: none;\n",
              "        fill: #1967D2;\n",
              "        height: 32px;\n",
              "        padding: 0 0 0 0;\n",
              "        width: 32px;\n",
              "      }\n",
              "\n",
              "      .colab-df-generate:hover {\n",
              "        background-color: #E2EBFA;\n",
              "        box-shadow: 0px 1px 2px rgba(60, 64, 67, 0.3), 0px 1px 3px 1px rgba(60, 64, 67, 0.15);\n",
              "        fill: #174EA6;\n",
              "      }\n",
              "\n",
              "      [theme=dark] .colab-df-generate {\n",
              "        background-color: #3B4455;\n",
              "        fill: #D2E3FC;\n",
              "      }\n",
              "\n",
              "      [theme=dark] .colab-df-generate:hover {\n",
              "        background-color: #434B5C;\n",
              "        box-shadow: 0px 1px 3px 1px rgba(0, 0, 0, 0.15);\n",
              "        filter: drop-shadow(0px 1px 2px rgba(0, 0, 0, 0.3));\n",
              "        fill: #FFFFFF;\n",
              "      }\n",
              "    </style>\n",
              "    <button class=\"colab-df-generate\" onclick=\"generateWithVariable('X_train')\"\n",
              "            title=\"Generate code using this dataframe.\"\n",
              "            style=\"display:none;\">\n",
              "\n",
              "  <svg xmlns=\"http://www.w3.org/2000/svg\" height=\"24px\"viewBox=\"0 0 24 24\"\n",
              "       width=\"24px\">\n",
              "    <path d=\"M7,19H8.4L18.45,9,17,7.55,7,17.6ZM5,21V16.75L18.45,3.32a2,2,0,0,1,2.83,0l1.4,1.43a1.91,1.91,0,0,1,.58,1.4,1.91,1.91,0,0,1-.58,1.4L9.25,21ZM18.45,9,17,7.55Zm-12,3A5.31,5.31,0,0,0,4.9,8.1,5.31,5.31,0,0,0,1,6.5,5.31,5.31,0,0,0,4.9,4.9,5.31,5.31,0,0,0,6.5,1,5.31,5.31,0,0,0,8.1,4.9,5.31,5.31,0,0,0,12,6.5,5.46,5.46,0,0,0,6.5,12Z\"/>\n",
              "  </svg>\n",
              "    </button>\n",
              "    <script>\n",
              "      (() => {\n",
              "      const buttonEl =\n",
              "        document.querySelector('#id_161c4a53-0446-42ac-8ae1-7c631959c015 button.colab-df-generate');\n",
              "      buttonEl.style.display =\n",
              "        google.colab.kernel.accessAllowed ? 'block' : 'none';\n",
              "\n",
              "      buttonEl.onclick = () => {\n",
              "        google.colab.notebook.generateWithVariable('X_train');\n",
              "      }\n",
              "      })();\n",
              "    </script>\n",
              "  </div>\n",
              "\n",
              "    </div>\n",
              "  </div>\n"
            ],
            "text/plain": [
              "                                                   text\n",
              "0     The Rock is destined to be the 21st Century 's...\n",
              "1     The gorgeously elaborate continuation of `` Th...\n",
              "2     Singer/composer Bryan Adams contributes a slew...\n",
              "3                  Yet the act is still charming here .\n",
              "4     Whether or not you 're enlightened by any of D...\n",
              "...                                                 ...\n",
              "6915                                    A real snooze .\n",
              "6916                                     No surprises .\n",
              "6917  We 've seen the hippie-turned-yuppie plot befo...\n",
              "6918  Her fans walked out muttering words like `` ho...\n",
              "6919                                In this case zero .\n",
              "\n",
              "[6920 rows x 1 columns]"
            ]
          },
          "execution_count": 272,
          "metadata": {},
          "output_type": "execute_result"
        }
      ],
      "source": [
        "X_train"
      ]
    },
    {
      "cell_type": "code",
      "execution_count": null,
      "metadata": {
        "colab": {
          "base_uri": "https://localhost:8080/",
          "height": 423
        },
        "id": "Xp4AbcvSIazn",
        "outputId": "a3fe6bb5-c909-4810-9635-27a50614770d"
      },
      "outputs": [
        {
          "data": {
            "application/vnd.google.colaboratory.intrinsic+json": {
              "summary": "{\n  \"name\": \"y_train_labels\",\n  \"rows\": 6920,\n  \"fields\": [\n    {\n      \"column\": \"label\",\n      \"properties\": {\n        \"dtype\": \"category\",\n        \"num_unique_values\": 2,\n        \"samples\": [\n          \"Negative\",\n          \"Positive\"\n        ],\n        \"semantic_type\": \"\",\n        \"description\": \"\"\n      }\n    }\n  ]\n}",
              "type": "dataframe",
              "variable_name": "y_train_labels"
            },
            "text/html": [
              "\n",
              "  <div id=\"df-1a68f250-e2e0-4b66-8968-a9a091c06e2e\" class=\"colab-df-container\">\n",
              "    <div>\n",
              "<style scoped>\n",
              "    .dataframe tbody tr th:only-of-type {\n",
              "        vertical-align: middle;\n",
              "    }\n",
              "\n",
              "    .dataframe tbody tr th {\n",
              "        vertical-align: top;\n",
              "    }\n",
              "\n",
              "    .dataframe thead th {\n",
              "        text-align: right;\n",
              "    }\n",
              "</style>\n",
              "<table border=\"1\" class=\"dataframe\">\n",
              "  <thead>\n",
              "    <tr style=\"text-align: right;\">\n",
              "      <th></th>\n",
              "      <th>label</th>\n",
              "    </tr>\n",
              "  </thead>\n",
              "  <tbody>\n",
              "    <tr>\n",
              "      <th>0</th>\n",
              "      <td>Positive</td>\n",
              "    </tr>\n",
              "    <tr>\n",
              "      <th>1</th>\n",
              "      <td>Positive</td>\n",
              "    </tr>\n",
              "    <tr>\n",
              "      <th>2</th>\n",
              "      <td>Positive</td>\n",
              "    </tr>\n",
              "    <tr>\n",
              "      <th>3</th>\n",
              "      <td>Positive</td>\n",
              "    </tr>\n",
              "    <tr>\n",
              "      <th>4</th>\n",
              "      <td>Positive</td>\n",
              "    </tr>\n",
              "    <tr>\n",
              "      <th>...</th>\n",
              "      <td>...</td>\n",
              "    </tr>\n",
              "    <tr>\n",
              "      <th>6915</th>\n",
              "      <td>Negative</td>\n",
              "    </tr>\n",
              "    <tr>\n",
              "      <th>6916</th>\n",
              "      <td>Negative</td>\n",
              "    </tr>\n",
              "    <tr>\n",
              "      <th>6917</th>\n",
              "      <td>Positive</td>\n",
              "    </tr>\n",
              "    <tr>\n",
              "      <th>6918</th>\n",
              "      <td>Negative</td>\n",
              "    </tr>\n",
              "    <tr>\n",
              "      <th>6919</th>\n",
              "      <td>Negative</td>\n",
              "    </tr>\n",
              "  </tbody>\n",
              "</table>\n",
              "<p>6920 rows × 1 columns</p>\n",
              "</div>\n",
              "    <div class=\"colab-df-buttons\">\n",
              "\n",
              "  <div class=\"colab-df-container\">\n",
              "    <button class=\"colab-df-convert\" onclick=\"convertToInteractive('df-1a68f250-e2e0-4b66-8968-a9a091c06e2e')\"\n",
              "            title=\"Convert this dataframe to an interactive table.\"\n",
              "            style=\"display:none;\">\n",
              "\n",
              "  <svg xmlns=\"http://www.w3.org/2000/svg\" height=\"24px\" viewBox=\"0 -960 960 960\">\n",
              "    <path d=\"M120-120v-720h720v720H120Zm60-500h600v-160H180v160Zm220 220h160v-160H400v160Zm0 220h160v-160H400v160ZM180-400h160v-160H180v160Zm440 0h160v-160H620v160ZM180-180h160v-160H180v160Zm440 0h160v-160H620v160Z\"/>\n",
              "  </svg>\n",
              "    </button>\n",
              "\n",
              "  <style>\n",
              "    .colab-df-container {\n",
              "      display:flex;\n",
              "      gap: 12px;\n",
              "    }\n",
              "\n",
              "    .colab-df-convert {\n",
              "      background-color: #E8F0FE;\n",
              "      border: none;\n",
              "      border-radius: 50%;\n",
              "      cursor: pointer;\n",
              "      display: none;\n",
              "      fill: #1967D2;\n",
              "      height: 32px;\n",
              "      padding: 0 0 0 0;\n",
              "      width: 32px;\n",
              "    }\n",
              "\n",
              "    .colab-df-convert:hover {\n",
              "      background-color: #E2EBFA;\n",
              "      box-shadow: 0px 1px 2px rgba(60, 64, 67, 0.3), 0px 1px 3px 1px rgba(60, 64, 67, 0.15);\n",
              "      fill: #174EA6;\n",
              "    }\n",
              "\n",
              "    .colab-df-buttons div {\n",
              "      margin-bottom: 4px;\n",
              "    }\n",
              "\n",
              "    [theme=dark] .colab-df-convert {\n",
              "      background-color: #3B4455;\n",
              "      fill: #D2E3FC;\n",
              "    }\n",
              "\n",
              "    [theme=dark] .colab-df-convert:hover {\n",
              "      background-color: #434B5C;\n",
              "      box-shadow: 0px 1px 3px 1px rgba(0, 0, 0, 0.15);\n",
              "      filter: drop-shadow(0px 1px 2px rgba(0, 0, 0, 0.3));\n",
              "      fill: #FFFFFF;\n",
              "    }\n",
              "  </style>\n",
              "\n",
              "    <script>\n",
              "      const buttonEl =\n",
              "        document.querySelector('#df-1a68f250-e2e0-4b66-8968-a9a091c06e2e button.colab-df-convert');\n",
              "      buttonEl.style.display =\n",
              "        google.colab.kernel.accessAllowed ? 'block' : 'none';\n",
              "\n",
              "      async function convertToInteractive(key) {\n",
              "        const element = document.querySelector('#df-1a68f250-e2e0-4b66-8968-a9a091c06e2e');\n",
              "        const dataTable =\n",
              "          await google.colab.kernel.invokeFunction('convertToInteractive',\n",
              "                                                    [key], {});\n",
              "        if (!dataTable) return;\n",
              "\n",
              "        const docLinkHtml = 'Like what you see? Visit the ' +\n",
              "          '<a target=\"_blank\" href=https://colab.research.google.com/notebooks/data_table.ipynb>data table notebook</a>'\n",
              "          + ' to learn more about interactive tables.';\n",
              "        element.innerHTML = '';\n",
              "        dataTable['output_type'] = 'display_data';\n",
              "        await google.colab.output.renderOutput(dataTable, element);\n",
              "        const docLink = document.createElement('div');\n",
              "        docLink.innerHTML = docLinkHtml;\n",
              "        element.appendChild(docLink);\n",
              "      }\n",
              "    </script>\n",
              "  </div>\n",
              "\n",
              "\n",
              "<div id=\"df-1656092d-30f7-4552-acb7-3de0c76a64f9\">\n",
              "  <button class=\"colab-df-quickchart\" onclick=\"quickchart('df-1656092d-30f7-4552-acb7-3de0c76a64f9')\"\n",
              "            title=\"Suggest charts\"\n",
              "            style=\"display:none;\">\n",
              "\n",
              "<svg xmlns=\"http://www.w3.org/2000/svg\" height=\"24px\"viewBox=\"0 0 24 24\"\n",
              "     width=\"24px\">\n",
              "    <g>\n",
              "        <path d=\"M19 3H5c-1.1 0-2 .9-2 2v14c0 1.1.9 2 2 2h14c1.1 0 2-.9 2-2V5c0-1.1-.9-2-2-2zM9 17H7v-7h2v7zm4 0h-2V7h2v10zm4 0h-2v-4h2v4z\"/>\n",
              "    </g>\n",
              "</svg>\n",
              "  </button>\n",
              "\n",
              "<style>\n",
              "  .colab-df-quickchart {\n",
              "      --bg-color: #E8F0FE;\n",
              "      --fill-color: #1967D2;\n",
              "      --hover-bg-color: #E2EBFA;\n",
              "      --hover-fill-color: #174EA6;\n",
              "      --disabled-fill-color: #AAA;\n",
              "      --disabled-bg-color: #DDD;\n",
              "  }\n",
              "\n",
              "  [theme=dark] .colab-df-quickchart {\n",
              "      --bg-color: #3B4455;\n",
              "      --fill-color: #D2E3FC;\n",
              "      --hover-bg-color: #434B5C;\n",
              "      --hover-fill-color: #FFFFFF;\n",
              "      --disabled-bg-color: #3B4455;\n",
              "      --disabled-fill-color: #666;\n",
              "  }\n",
              "\n",
              "  .colab-df-quickchart {\n",
              "    background-color: var(--bg-color);\n",
              "    border: none;\n",
              "    border-radius: 50%;\n",
              "    cursor: pointer;\n",
              "    display: none;\n",
              "    fill: var(--fill-color);\n",
              "    height: 32px;\n",
              "    padding: 0;\n",
              "    width: 32px;\n",
              "  }\n",
              "\n",
              "  .colab-df-quickchart:hover {\n",
              "    background-color: var(--hover-bg-color);\n",
              "    box-shadow: 0 1px 2px rgba(60, 64, 67, 0.3), 0 1px 3px 1px rgba(60, 64, 67, 0.15);\n",
              "    fill: var(--button-hover-fill-color);\n",
              "  }\n",
              "\n",
              "  .colab-df-quickchart-complete:disabled,\n",
              "  .colab-df-quickchart-complete:disabled:hover {\n",
              "    background-color: var(--disabled-bg-color);\n",
              "    fill: var(--disabled-fill-color);\n",
              "    box-shadow: none;\n",
              "  }\n",
              "\n",
              "  .colab-df-spinner {\n",
              "    border: 2px solid var(--fill-color);\n",
              "    border-color: transparent;\n",
              "    border-bottom-color: var(--fill-color);\n",
              "    animation:\n",
              "      spin 1s steps(1) infinite;\n",
              "  }\n",
              "\n",
              "  @keyframes spin {\n",
              "    0% {\n",
              "      border-color: transparent;\n",
              "      border-bottom-color: var(--fill-color);\n",
              "      border-left-color: var(--fill-color);\n",
              "    }\n",
              "    20% {\n",
              "      border-color: transparent;\n",
              "      border-left-color: var(--fill-color);\n",
              "      border-top-color: var(--fill-color);\n",
              "    }\n",
              "    30% {\n",
              "      border-color: transparent;\n",
              "      border-left-color: var(--fill-color);\n",
              "      border-top-color: var(--fill-color);\n",
              "      border-right-color: var(--fill-color);\n",
              "    }\n",
              "    40% {\n",
              "      border-color: transparent;\n",
              "      border-right-color: var(--fill-color);\n",
              "      border-top-color: var(--fill-color);\n",
              "    }\n",
              "    60% {\n",
              "      border-color: transparent;\n",
              "      border-right-color: var(--fill-color);\n",
              "    }\n",
              "    80% {\n",
              "      border-color: transparent;\n",
              "      border-right-color: var(--fill-color);\n",
              "      border-bottom-color: var(--fill-color);\n",
              "    }\n",
              "    90% {\n",
              "      border-color: transparent;\n",
              "      border-bottom-color: var(--fill-color);\n",
              "    }\n",
              "  }\n",
              "</style>\n",
              "\n",
              "  <script>\n",
              "    async function quickchart(key) {\n",
              "      const quickchartButtonEl =\n",
              "        document.querySelector('#' + key + ' button');\n",
              "      quickchartButtonEl.disabled = true;  // To prevent multiple clicks.\n",
              "      quickchartButtonEl.classList.add('colab-df-spinner');\n",
              "      try {\n",
              "        const charts = await google.colab.kernel.invokeFunction(\n",
              "            'suggestCharts', [key], {});\n",
              "      } catch (error) {\n",
              "        console.error('Error during call to suggestCharts:', error);\n",
              "      }\n",
              "      quickchartButtonEl.classList.remove('colab-df-spinner');\n",
              "      quickchartButtonEl.classList.add('colab-df-quickchart-complete');\n",
              "    }\n",
              "    (() => {\n",
              "      let quickchartButtonEl =\n",
              "        document.querySelector('#df-1656092d-30f7-4552-acb7-3de0c76a64f9 button');\n",
              "      quickchartButtonEl.style.display =\n",
              "        google.colab.kernel.accessAllowed ? 'block' : 'none';\n",
              "    })();\n",
              "  </script>\n",
              "</div>\n",
              "\n",
              "  <div id=\"id_8c3f93f2-39d6-4ee3-ba9a-4af5269d97dc\">\n",
              "    <style>\n",
              "      .colab-df-generate {\n",
              "        background-color: #E8F0FE;\n",
              "        border: none;\n",
              "        border-radius: 50%;\n",
              "        cursor: pointer;\n",
              "        display: none;\n",
              "        fill: #1967D2;\n",
              "        height: 32px;\n",
              "        padding: 0 0 0 0;\n",
              "        width: 32px;\n",
              "      }\n",
              "\n",
              "      .colab-df-generate:hover {\n",
              "        background-color: #E2EBFA;\n",
              "        box-shadow: 0px 1px 2px rgba(60, 64, 67, 0.3), 0px 1px 3px 1px rgba(60, 64, 67, 0.15);\n",
              "        fill: #174EA6;\n",
              "      }\n",
              "\n",
              "      [theme=dark] .colab-df-generate {\n",
              "        background-color: #3B4455;\n",
              "        fill: #D2E3FC;\n",
              "      }\n",
              "\n",
              "      [theme=dark] .colab-df-generate:hover {\n",
              "        background-color: #434B5C;\n",
              "        box-shadow: 0px 1px 3px 1px rgba(0, 0, 0, 0.15);\n",
              "        filter: drop-shadow(0px 1px 2px rgba(0, 0, 0, 0.3));\n",
              "        fill: #FFFFFF;\n",
              "      }\n",
              "    </style>\n",
              "    <button class=\"colab-df-generate\" onclick=\"generateWithVariable('y_train_labels')\"\n",
              "            title=\"Generate code using this dataframe.\"\n",
              "            style=\"display:none;\">\n",
              "\n",
              "  <svg xmlns=\"http://www.w3.org/2000/svg\" height=\"24px\"viewBox=\"0 0 24 24\"\n",
              "       width=\"24px\">\n",
              "    <path d=\"M7,19H8.4L18.45,9,17,7.55,7,17.6ZM5,21V16.75L18.45,3.32a2,2,0,0,1,2.83,0l1.4,1.43a1.91,1.91,0,0,1,.58,1.4,1.91,1.91,0,0,1-.58,1.4L9.25,21ZM18.45,9,17,7.55Zm-12,3A5.31,5.31,0,0,0,4.9,8.1,5.31,5.31,0,0,0,1,6.5,5.31,5.31,0,0,0,4.9,4.9,5.31,5.31,0,0,0,6.5,1,5.31,5.31,0,0,0,8.1,4.9,5.31,5.31,0,0,0,12,6.5,5.46,5.46,0,0,0,6.5,12Z\"/>\n",
              "  </svg>\n",
              "    </button>\n",
              "    <script>\n",
              "      (() => {\n",
              "      const buttonEl =\n",
              "        document.querySelector('#id_8c3f93f2-39d6-4ee3-ba9a-4af5269d97dc button.colab-df-generate');\n",
              "      buttonEl.style.display =\n",
              "        google.colab.kernel.accessAllowed ? 'block' : 'none';\n",
              "\n",
              "      buttonEl.onclick = () => {\n",
              "        google.colab.notebook.generateWithVariable('y_train_labels');\n",
              "      }\n",
              "      })();\n",
              "    </script>\n",
              "  </div>\n",
              "\n",
              "    </div>\n",
              "  </div>\n"
            ],
            "text/plain": [
              "         label\n",
              "0     Positive\n",
              "1     Positive\n",
              "2     Positive\n",
              "3     Positive\n",
              "4     Positive\n",
              "...        ...\n",
              "6915  Negative\n",
              "6916  Negative\n",
              "6917  Positive\n",
              "6918  Negative\n",
              "6919  Negative\n",
              "\n",
              "[6920 rows x 1 columns]"
            ]
          },
          "execution_count": 296,
          "metadata": {},
          "output_type": "execute_result"
        }
      ],
      "source": [
        "y_train_labels"
      ]
    },
    {
      "cell_type": "markdown",
      "metadata": {
        "id": "gEzPoXPj3V7u"
      },
      "source": [
        "##2.   Preprocess data using keras tokenizer / Write and Save Preprocessor function\n"
      ]
    },
    {
      "cell_type": "code",
      "execution_count": null,
      "metadata": {
        "id": "Ph9KlxsCqTMS"
      },
      "outputs": [],
      "source": [
        "import tensorflow as tf\n",
        "from tensorflow import keras\n",
        "from tensorflow.keras.preprocessing.text import Tokenizer\n",
        "from tensorflow.keras.utils import pad_sequences\n",
        "import numpy as np\n",
        "import string\n",
        "import random\n",
        "import re"
      ]
    },
    {
      "cell_type": "code",
      "source": [
        "# encode y data\n",
        "from sklearn.preprocessing import LabelEncoder\n",
        "from tensorflow.keras.utils import to_categorical\n",
        "\n",
        "le = LabelEncoder()\n",
        "\n",
        "y_train_labels_enc = y_train_labels\n",
        "y_train_labels_enc['label'] = le.fit_transform(y_train_labels_enc['label'])\n",
        "y_train_labels_enc = to_categorical(y_train_labels_enc)\n",
        "\n",
        "display(y_train_labels_enc)"
      ],
      "metadata": {
        "colab": {
          "base_uri": "https://localhost:8080/",
          "height": 142
        },
        "id": "-2CeNeWCvpHG",
        "outputId": "b5120a9a-2027-436c-b9bb-acccab0f69d6"
      },
      "execution_count": null,
      "outputs": [
        {
          "output_type": "display_data",
          "data": {
            "text/plain": [
              "array([[0., 1.],\n",
              "       [0., 1.],\n",
              "       [0., 1.],\n",
              "       ...,\n",
              "       [0., 1.],\n",
              "       [1., 0.],\n",
              "       [1., 0.]], dtype=float32)"
            ]
          },
          "metadata": {}
        }
      ]
    },
    {
      "cell_type": "code",
      "execution_count": null,
      "metadata": {
        "id": "2B6c_pV20A4T"
      },
      "outputs": [],
      "source": [
        "X_train_list = X_train['text'].tolist()\n",
        "X_test_list = X_test['text'].tolist()"
      ]
    },
    {
      "cell_type": "code",
      "execution_count": 39,
      "metadata": {
        "colab": {
          "base_uri": "https://localhost:8080/"
        },
        "id": "jQFwl-76-8xI",
        "outputId": "22fc04d3-8ac0-4528-d883-c99b6393895e"
      },
      "outputs": [
        {
          "output_type": "execute_result",
          "data": {
            "text/plain": [
              "13836"
            ]
          },
          "metadata": {},
          "execution_count": 39
        }
      ],
      "source": [
        "# preprocess with Tokenizer\n",
        "tokenizer = Tokenizer(num_words = 2000, oov_token = '<UNK>')\n",
        "tokenizer.fit_on_texts(X_train_list)\n",
        "\n",
        "len(tokenizer.word_index)"
      ]
    },
    {
      "cell_type": "code",
      "execution_count": 40,
      "metadata": {
        "id": "z6gQ2Xdp_CAU"
      },
      "outputs": [],
      "source": [
        "train_sequences = tokenizer.texts_to_sequences(X_train_list)\n",
        "train_padded = pad_sequences(train_sequences, padding = 'post', truncating = 'post', maxlen = 40)"
      ]
    },
    {
      "cell_type": "code",
      "execution_count": 41,
      "metadata": {
        "id": "0oFeLd7h_KTF"
      },
      "outputs": [],
      "source": [
        "test_sequences = tokenizer.texts_to_sequences(X_test_list)\n",
        "test_padded = pad_sequences(test_sequences, padding = 'post', truncating = 'post', maxlen = 40)"
      ]
    },
    {
      "cell_type": "code",
      "execution_count": 19,
      "metadata": {
        "colab": {
          "base_uri": "https://localhost:8080/"
        },
        "id": "D42RGExFATC0",
        "outputId": "c9d1f96c-57e5-44b2-9e1a-447fca23d9ed"
      },
      "outputs": [
        {
          "output_type": "execute_result",
          "data": {
            "text/plain": [
              "(6920, 40)"
            ]
          },
          "metadata": {},
          "execution_count": 19
        }
      ],
      "source": [
        "X_train_preproc = preprocessor(X_train_list)\n",
        "X_train_preproc.shape"
      ]
    },
    {
      "cell_type": "code",
      "execution_count": 13,
      "metadata": {
        "colab": {
          "base_uri": "https://localhost:8080/"
        },
        "id": "Oc-sMAPzAS2D",
        "outputId": "270719a2-f11c-456c-9b9f-21c90becebb2"
      },
      "outputs": [
        {
          "output_type": "execute_result",
          "data": {
            "text/plain": [
              "(1821, 40)"
            ]
          },
          "metadata": {},
          "execution_count": 13
        }
      ],
      "source": [
        "X_test_preproc = preprocessor(X_test_list)\n",
        "X_test_preproc.shape"
      ]
    },
    {
      "cell_type": "code",
      "execution_count": 46,
      "metadata": {
        "colab": {
          "base_uri": "https://localhost:8080/"
        },
        "id": "LRE1-uzsUKxB",
        "outputId": "888be648-77c6-4a56-f122-cf0c7dde7390"
      },
      "outputs": [
        {
          "output_type": "execute_result",
          "data": {
            "text/plain": [
              "13836"
            ]
          },
          "metadata": {},
          "execution_count": 46
        }
      ],
      "source": [
        "len(tokenizer.word_index)"
      ]
    },
    {
      "cell_type": "code",
      "execution_count": 18,
      "metadata": {
        "id": "WWtqcaN8_6AQ"
      },
      "outputs": [],
      "source": [
        "# alternatively - define preprocessor function\n",
        "def preprocessor(data):\n",
        "  tokenizer = Tokenizer(num_words = 2000, oov_token = '<UNK>')\n",
        "  tokenizer.fit_on_texts(data)\n",
        "  # word_index = tokenizer.word_index\n",
        "  sequences = tokenizer.texts_to_sequences(data)\n",
        "  padded = pad_sequences(sequences, padding = 'post', truncating = 'post', maxlen = 40)\n",
        "  return padded"
      ]
    },
    {
      "cell_type": "markdown",
      "metadata": {
        "id": "X52kECL43b-O"
      },
      "source": [
        "##3. Fit model on preprocessed data and save preprocessor function and model\n"
      ]
    },
    {
      "cell_type": "markdown",
      "source": [
        "**Deep Learning -- Base Model**"
      ],
      "metadata": {
        "id": "_nqa9evk8J4x"
      }
    },
    {
      "cell_type": "code",
      "execution_count": 20,
      "metadata": {
        "id": "NCbBf8j9ClYl"
      },
      "outputs": [],
      "source": [
        "from tensorflow.keras.layers import Dense, Embedding, Flatten\n",
        "from tensorflow.keras.models import Sequential"
      ]
    },
    {
      "cell_type": "code",
      "source": [
        "np.random.seed(5)\n",
        "\n",
        "import tensorflow as tf\n",
        "\n",
        "# define model\n",
        "dl_base = tf.keras.Sequential([\n",
        "    tf.keras.layers.Embedding(input_dim = 5000, output_dim = 50, input_length = 40),\n",
        "    tf.keras.layers.Flatten(),\n",
        "    tf.keras.layers.Dense(2, activation = 'sigmoid') # use sigmoid for binary classification\n",
        "  ])\n",
        "\n",
        "# compile model\n",
        "dl_base.compile(optimizer = 'adam',\n",
        "              loss = 'binary_crossentropy',\n",
        "              metrics = ['accuracy'])\n",
        "\n",
        "# fit model\n",
        "hist_dl_base = dl_base.fit(X_train_preproc,\n",
        "                           y_train_labels_enc,\n",
        "                           epochs = 15,\n",
        "                           verbose = 1,\n",
        "                           validation_split = 0.2)"
      ],
      "metadata": {
        "colab": {
          "base_uri": "https://localhost:8080/"
        },
        "id": "Ei6Y3r4vTZjF",
        "outputId": "b83907cf-ac0a-4107-8bb9-ba10abe87d5d"
      },
      "execution_count": 21,
      "outputs": [
        {
          "output_type": "stream",
          "name": "stdout",
          "text": [
            "Epoch 1/15\n",
            "173/173 [==============================] - 3s 13ms/step - loss: 0.6643 - accuracy: 0.6133 - val_loss: 0.8612 - val_accuracy: 0.1517\n",
            "Epoch 2/15\n",
            "173/173 [==============================] - 1s 7ms/step - loss: 0.5786 - accuracy: 0.6895 - val_loss: 0.7779 - val_accuracy: 0.4212\n",
            "Epoch 3/15\n",
            "173/173 [==============================] - 1s 6ms/step - loss: 0.4345 - accuracy: 0.8168 - val_loss: 0.6127 - val_accuracy: 0.6676\n",
            "Epoch 4/15\n",
            "173/173 [==============================] - 1s 6ms/step - loss: 0.3277 - accuracy: 0.8761 - val_loss: 0.6326 - val_accuracy: 0.6655\n",
            "Epoch 5/15\n",
            "173/173 [==============================] - 2s 9ms/step - loss: 0.2492 - accuracy: 0.9194 - val_loss: 0.6833 - val_accuracy: 0.6445\n",
            "Epoch 6/15\n",
            "173/173 [==============================] - 2s 10ms/step - loss: 0.1889 - accuracy: 0.9512 - val_loss: 0.6624 - val_accuracy: 0.6749\n",
            "Epoch 7/15\n",
            "173/173 [==============================] - 1s 6ms/step - loss: 0.1420 - accuracy: 0.9693 - val_loss: 0.7486 - val_accuracy: 0.6460\n",
            "Epoch 8/15\n",
            "173/173 [==============================] - 1s 6ms/step - loss: 0.1087 - accuracy: 0.9828 - val_loss: 0.7047 - val_accuracy: 0.6806\n",
            "Epoch 9/15\n",
            "173/173 [==============================] - 1s 7ms/step - loss: 0.0841 - accuracy: 0.9874 - val_loss: 0.7501 - val_accuracy: 0.6691\n",
            "Epoch 10/15\n",
            "173/173 [==============================] - 1s 6ms/step - loss: 0.0663 - accuracy: 0.9922 - val_loss: 0.8069 - val_accuracy: 0.6604\n",
            "Epoch 11/15\n",
            "173/173 [==============================] - 1s 8ms/step - loss: 0.0529 - accuracy: 0.9944 - val_loss: 0.8964 - val_accuracy: 0.6395\n",
            "Epoch 12/15\n",
            "173/173 [==============================] - 2s 10ms/step - loss: 0.0427 - accuracy: 0.9951 - val_loss: 0.9012 - val_accuracy: 0.6532\n",
            "Epoch 13/15\n",
            "173/173 [==============================] - 1s 7ms/step - loss: 0.0353 - accuracy: 0.9957 - val_loss: 0.9320 - val_accuracy: 0.6561\n",
            "Epoch 14/15\n",
            "173/173 [==============================] - 1s 6ms/step - loss: 0.0299 - accuracy: 0.9962 - val_loss: 0.8855 - val_accuracy: 0.6814\n",
            "Epoch 15/15\n",
            "173/173 [==============================] - 2s 10ms/step - loss: 0.0254 - accuracy: 0.9969 - val_loss: 0.9480 - val_accuracy: 0.6640\n"
          ]
        }
      ]
    },
    {
      "cell_type": "code",
      "execution_count": 22,
      "metadata": {
        "colab": {
          "base_uri": "https://localhost:8080/"
        },
        "id": "WDq5rZowR3bN",
        "outputId": "9001557d-6caa-4e80-aeee-a903a2c4be48"
      },
      "outputs": [
        {
          "output_type": "stream",
          "name": "stdout",
          "text": [
            "Model: \"sequential\"\n",
            "_________________________________________________________________\n",
            " Layer (type)                Output Shape              Param #   \n",
            "=================================================================\n",
            " embedding (Embedding)       (None, 40, 50)            250000    \n",
            "                                                                 \n",
            " flatten (Flatten)           (None, 2000)              0         \n",
            "                                                                 \n",
            " dense (Dense)               (None, 2)                 4002      \n",
            "                                                                 \n",
            "=================================================================\n",
            "Total params: 254002 (992.20 KB)\n",
            "Trainable params: 254002 (992.20 KB)\n",
            "Non-trainable params: 0 (0.00 Byte)\n",
            "_________________________________________________________________\n"
          ]
        }
      ],
      "source": [
        "# return model summary\n",
        "dl_base.summary()"
      ]
    },
    {
      "cell_type": "code",
      "execution_count": null,
      "metadata": {
        "id": "kJm6nISUdC-c"
      },
      "outputs": [],
      "source": [
        "# save model and model history\n",
        "dl_base.save('dl_base.keras')\n",
        "dl_base.save('dl_base.h5')\n",
        "\n",
        "np.save('dl_base_hist.npy', dl_base.history)"
      ]
    },
    {
      "cell_type": "code",
      "execution_count": null,
      "metadata": {
        "colab": {
          "base_uri": "https://localhost:8080/",
          "height": 699
        },
        "id": "KAgqdiT1FBvO",
        "outputId": "4b271764-0e34-4062-ad80-8a68617619a0"
      },
      "outputs": [
        {
          "data": {
            "image/png": "[encoded data removed]",
            "text/plain": [
              "<Figure size 800x800 with 2 Axes>"
            ]
          },
          "metadata": {},
          "output_type": "display_data"
        }
      ],
      "source": [
        "# plot history\n",
        "import matplotlib.pyplot as plt\n",
        "\n",
        "train_acc_dl_base = hist_dl_base.history['accuracy']\n",
        "valid_acc_dl_base = hist_dl_base.history['val_accuracy']\n",
        "\n",
        "train_loss_dl_base = hist_dl_base.history['loss']\n",
        "valid_loss_dl_base = hist_dl_base.history['val_loss']\n",
        "\n",
        "epochs_range = range(15)\n",
        "\n",
        "plt.figure(figsize = (8, 8))\n",
        "plt.subplot(1, 2, 1)\n",
        "plt.plot(epochs_range, train_acc_dl_base, label = 'Training Accuracy')\n",
        "plt.plot(epochs_range, valid_acc_dl_base, label = 'Validation Accuracy')\n",
        "plt.legend(loc = 'lower right')\n",
        "plt.title('Training and Validation Accuracy')\n",
        "\n",
        "plt.subplot(1, 2, 2)\n",
        "plt.plot(epochs_range, train_loss_dl_base, label = 'Training Loss')\n",
        "plt.plot(epochs_range, valid_loss_dl_base, label = 'Validation Loss')\n",
        "plt.legend(loc = 'upper right')\n",
        "plt.title('Training and Validation Loss')\n",
        "\n",
        "plt.show()"
      ]
    },
    {
      "cell_type": "markdown",
      "metadata": {
        "id": "gHWkAzvX3m8O"
      },
      "source": [
        "## 4. Generate predictions from X_test data and submit model to competition\n"
      ]
    },
    {
      "cell_type": "code",
      "execution_count": null,
      "metadata": {
        "colab": {
          "base_uri": "https://localhost:8080/"
        },
        "id": "RtgkM02MDpkO",
        "outputId": "9974836b-d55d-4f7b-b13b-a686f87d07de"
      },
      "outputs": [
        {
          "name": "stdout",
          "output_type": "stream",
          "text": [
            "Modelshare.ai Username:··········\n",
            "Modelshare.ai Password:··········\n",
            "Modelshare.ai login credentials set successfully.\n"
          ]
        }
      ],
      "source": [
        "# set credentials\n",
        "from aimodelshare.aws import set_credentials\n",
        "\n",
        "apiurl = 'https://rlxjxnoql9.execute-api.us-east-1.amazonaws.com/prod/m' #This is the unique rest api that powers this specific Playground\n",
        "\n",
        "set_credentials(apiurl = apiurl)"
      ]
    },
    {
      "cell_type": "code",
      "execution_count": null,
      "metadata": {
        "colab": {
          "base_uri": "https://localhost:8080/"
        },
        "id": "4VGacc0LDaMA",
        "outputId": "97646c4e-111d-4d15-901a-5731a79abda8"
      },
      "outputs": [
        {
          "name": "stdout",
          "output_type": "stream",
          "text": [
            "Your preprocessor is now saved to 'preprocessor.zip'\n"
          ]
        }
      ],
      "source": [
        "import aimodelshare as ai\n",
        "ai.export_preprocessor(preprocessor, '')"
      ]
    },
    {
      "cell_type": "code",
      "execution_count": null,
      "metadata": {
        "id": "fKNGSww8EGgi"
      },
      "outputs": [],
      "source": [
        "# instantiate competition\n",
        "mycompetition = ai.Competition(apiurl)"
      ]
    },
    {
      "cell_type": "code",
      "execution_count": null,
      "metadata": {
        "id": "pEhvnRiQDlY5"
      },
      "outputs": [],
      "source": [
        "# save model to local ONNX file\n",
        "from aimodelshare.aimsonnx import model_to_onnx\n",
        "\n",
        "onnx_dl_base = model_to_onnx(dl_base, framework = 'keras',\n",
        "                          transfer_learning = False,\n",
        "                          deep_learning = True)\n",
        "\n",
        "with open('dl_base.onnx', 'wb') as f:\n",
        "    f.write(onnx_dl_base.SerializeToString())"
      ]
    },
    {
      "cell_type": "code",
      "execution_count": null,
      "metadata": {
        "colab": {
          "base_uri": "https://localhost:8080/"
        },
        "id": "_Ql4wksyEUnP",
        "outputId": "218dc319-5517-44f4-9c1e-3782033fe0e8"
      },
      "outputs": [
        {
          "name": "stdout",
          "output_type": "stream",
          "text": [
            "57/57 [==============================] - 0s 3ms/step\n",
            "Your preprocessor is now saved to 'preprocessor.zip'\n",
            "Insert search tags to help users find your model (optional): deep_learning\n",
            "Provide any useful notes about your model (optional): \n",
            "\n",
            "Your model has been submitted as model version 519\n",
            "\n",
            "To submit code used to create this model or to view current leaderboard navigate to Model Playground: \n",
            "\n",
            " https://www.modelshare.ai/detail/model:2763\n"
          ]
        }
      ],
      "source": [
        "# generate predicted values\n",
        "dl_base_prediction_labels = dl_base.predict(X_test_preproc)\n",
        "dl_base_prediction_labels\n",
        "\n",
        "# submit to competition\n",
        "mycompetition.submit_model(model = \"dl_base.onnx\",\n",
        "                                 preprocessor = preprocessor,\n",
        "                                 prediction_submission = dl_base_prediction_labels)"
      ]
    },
    {
      "cell_type": "code",
      "execution_count": null,
      "metadata": {
        "id": "GN1zvAmNEq17"
      },
      "outputs": [],
      "source": [
        "# display leaderboard\n",
        "data = mycompetition.get_leaderboard()\n",
        "mycompetition.stylize_leaderboard(data)"
      ]
    },
    {
      "cell_type": "markdown",
      "metadata": {
        "id": "bwNKs0wP4r5s"
      },
      "source": [
        "**Deep Learning -- LSTM**"
      ]
    },
    {
      "cell_type": "code",
      "execution_count": 52,
      "metadata": {
        "id": "FgSs5PAtPCZH"
      },
      "outputs": [],
      "source": [
        "from tensorflow.keras.models import Sequential\n",
        "from tensorflow.keras.layers import Dense, Embedding, LSTM, Flatten"
      ]
    },
    {
      "cell_type": "code",
      "execution_count": 28,
      "metadata": {
        "id": "En1AhEg5-PQB",
        "colab": {
          "base_uri": "https://localhost:8080/"
        },
        "outputId": "4cfcaba4-67e7-4e58-95e5-b99f3ebd6d00"
      },
      "outputs": [
        {
          "output_type": "stream",
          "name": "stdout",
          "text": [
            "Epoch 1/15\n",
            "173/173 [==============================] - 33s 145ms/step - loss: 0.6007 - accuracy: 0.6712 - val_loss: 0.7986 - val_accuracy: 0.5014\n",
            "Epoch 2/15\n",
            "173/173 [==============================] - 32s 186ms/step - loss: 0.4101 - accuracy: 0.8089 - val_loss: 0.6690 - val_accuracy: 0.6712\n",
            "Epoch 3/15\n",
            "173/173 [==============================] - 22s 130ms/step - loss: 0.3458 - accuracy: 0.8450 - val_loss: 0.6289 - val_accuracy: 0.6871\n",
            "Epoch 4/15\n",
            "173/173 [==============================] - 22s 129ms/step - loss: 0.3165 - accuracy: 0.8624 - val_loss: 0.4843 - val_accuracy: 0.7847\n",
            "Epoch 5/15\n",
            "173/173 [==============================] - 21s 124ms/step - loss: 0.2921 - accuracy: 0.8737 - val_loss: 0.7392 - val_accuracy: 0.7666\n",
            "Epoch 6/15\n",
            "173/173 [==============================] - 22s 127ms/step - loss: 0.2659 - accuracy: 0.8813 - val_loss: 1.1761 - val_accuracy: 0.6618\n",
            "Epoch 7/15\n",
            "173/173 [==============================] - 35s 205ms/step - loss: 0.2350 - accuracy: 0.8994 - val_loss: 0.8879 - val_accuracy: 0.6944\n",
            "Epoch 8/15\n",
            "173/173 [==============================] - 21s 122ms/step - loss: 0.2092 - accuracy: 0.9052 - val_loss: 1.1882 - val_accuracy: 0.7168\n",
            "Epoch 9/15\n",
            "173/173 [==============================] - 22s 129ms/step - loss: 0.1861 - accuracy: 0.9182 - val_loss: 1.4640 - val_accuracy: 0.6864\n",
            "Epoch 10/15\n",
            "173/173 [==============================] - 25s 146ms/step - loss: 0.1631 - accuracy: 0.9292 - val_loss: 2.1120 - val_accuracy: 0.7081\n",
            "Epoch 11/15\n",
            "173/173 [==============================] - 33s 194ms/step - loss: 0.1387 - accuracy: 0.9388 - val_loss: 2.1942 - val_accuracy: 0.7197\n",
            "Epoch 12/15\n",
            "173/173 [==============================] - 23s 134ms/step - loss: 0.1258 - accuracy: 0.9460 - val_loss: 2.0717 - val_accuracy: 0.6662\n",
            "Epoch 13/15\n",
            "173/173 [==============================] - 22s 126ms/step - loss: 0.1107 - accuracy: 0.9476 - val_loss: 1.1352 - val_accuracy: 0.7428\n",
            "Epoch 14/15\n",
            "173/173 [==============================] - 20s 116ms/step - loss: 0.0981 - accuracy: 0.9545 - val_loss: 1.5696 - val_accuracy: 0.6763\n",
            "Epoch 15/15\n",
            "173/173 [==============================] - 24s 138ms/step - loss: 0.0756 - accuracy: 0.9686 - val_loss: 1.6274 - val_accuracy: 0.7225\n"
          ]
        }
      ],
      "source": [
        "np.random.seed(5)\n",
        "\n",
        "import tensorflow as tf\n",
        "\n",
        "# define model\n",
        "dl_lstm = tf.keras.Sequential([\n",
        "    tf.keras.layers.Embedding(input_dim = 5000, output_dim = 50, input_length = 40),\n",
        "    tf.keras.layers.LSTM(100, return_sequences = True),\n",
        "    tf.keras.layers.LSTM(100, return_sequences = True),\n",
        "    tf.keras.layers.LSTM(100, return_sequences = True),\n",
        "    tf.keras.layers.Flatten(),\n",
        "    tf.keras.layers.Dense(2, activation = 'sigmoid') # use sigmoid for binary classification\n",
        "  ])\n",
        "\n",
        "# compile model\n",
        "dl_lstm.compile(optimizer = 'adam',\n",
        "              loss = 'binary_crossentropy',\n",
        "              metrics = ['accuracy'])\n",
        "\n",
        "# fit model\n",
        "hist_dl_lstm = dl_lstm.fit(X_train_preproc,\n",
        "                           y_train_labels_enc,\n",
        "                           epochs = 15,\n",
        "                           verbose = 1,\n",
        "                           validation_split = 0.2)"
      ]
    },
    {
      "cell_type": "code",
      "execution_count": 29,
      "metadata": {
        "colab": {
          "base_uri": "https://localhost:8080/"
        },
        "id": "jCLKoQV1Bxty",
        "outputId": "7326f635-bc08-4ac4-f6d4-9d36b7a82ba5"
      },
      "outputs": [
        {
          "output_type": "stream",
          "name": "stdout",
          "text": [
            "Model: \"sequential_1\"\n",
            "_________________________________________________________________\n",
            " Layer (type)                Output Shape              Param #   \n",
            "=================================================================\n",
            " embedding_1 (Embedding)     (None, 40, 50)            250000    \n",
            "                                                                 \n",
            " lstm (LSTM)                 (None, 40, 100)           60400     \n",
            "                                                                 \n",
            " lstm_1 (LSTM)               (None, 40, 100)           80400     \n",
            "                                                                 \n",
            " lstm_2 (LSTM)               (None, 40, 100)           80400     \n",
            "                                                                 \n",
            " flatten_1 (Flatten)         (None, 4000)              0         \n",
            "                                                                 \n",
            " dense_1 (Dense)             (None, 2)                 8002      \n",
            "                                                                 \n",
            "=================================================================\n",
            "Total params: 479202 (1.83 MB)\n",
            "Trainable params: 479202 (1.83 MB)\n",
            "Non-trainable params: 0 (0.00 Byte)\n",
            "_________________________________________________________________\n"
          ]
        }
      ],
      "source": [
        "# return model summary\n",
        "dl_lstm.summary()"
      ]
    },
    {
      "cell_type": "code",
      "execution_count": 30,
      "metadata": {
        "id": "ySMXewQTBxY-"
      },
      "outputs": [],
      "source": [
        "# save model and model history\n",
        "dl_lstm.save('dl_lstm.keras')\n",
        "dl_lstm.save('dl_lstm.h5')\n",
        "\n",
        "np.save('dl_lstm_hist.npy', dl_lstm.history)"
      ]
    },
    {
      "cell_type": "code",
      "source": [
        "# plot history\n",
        "train_acc_dl_lstm = hist_dl_lstm.history['accuracy']\n",
        "valid_acc_dl_lstm = hist_dl_lstm.history['val_accuracy']\n",
        "\n",
        "train_loss_dl_lstm = hist_dl_lstm.history['loss']\n",
        "valid_loss_dl_lstm = hist_dl_lstm.history['val_loss']\n",
        "\n",
        "epochs_range = range(15)\n",
        "\n",
        "plt.figure(figsize = (8, 8))\n",
        "plt.subplot(1, 2, 1)\n",
        "plt.plot(epochs_range, train_acc_dl_lstm, label = 'Training Accuracy')\n",
        "plt.plot(epochs_range, valid_acc_dl_lstm, label = 'Validation Accuracy')\n",
        "plt.legend(loc = 'lower right')\n",
        "plt.title('Training and Validation Accuracy')\n",
        "\n",
        "plt.subplot(1, 2, 2)\n",
        "plt.plot(epochs_range, train_loss_dl_lstm, label = 'Training Loss')\n",
        "plt.plot(epochs_range, valid_loss_dl_lstm, label = 'Validation Loss')\n",
        "plt.legend(loc = 'upper right')\n",
        "plt.title('Training and Validation Loss')\n",
        "\n",
        "plt.show()"
      ],
      "metadata": {
        "colab": {
          "base_uri": "https://localhost:8080/",
          "height": 699
        },
        "id": "6sC_X8w95T4r",
        "outputId": "97de14b6-98fe-4fad-baab-a88af0ef77dc"
      },
      "execution_count": 53,
      "outputs": [
        {
          "output_type": "display_data",
          "data": {
            "text/plain": [
              "<Figure size 800x800 with 2 Axes>"
            ],
            "image/png": "[encoded data removed]"
          },
          "metadata": {}
        }
      ]
    },
    {
      "cell_type": "markdown",
      "metadata": {
        "id": "jw7-1gh2FN_X"
      },
      "source": [
        "The deep learning with LSTM model provides an improvement in validation accuracy compared to the initial deep learning model, as shown in the respective history plots, likely due to LSTM models being better at retaining memory on useful text data."
      ]
    },
    {
      "cell_type": "code",
      "execution_count": null,
      "metadata": {
        "id": "aIdmSpYVPYAw"
      },
      "outputs": [],
      "source": [
        "# save keras to local ONNX file\n",
        "from aimodelshare.aimsonnx import model_to_onnx\n",
        "\n",
        "onnx_dl_lstm = model_to_onnx(dl_lstm, framework = 'keras',\n",
        "                          transfer_learning = False,\n",
        "                          deep_learning = True)\n",
        "\n",
        "with open('dl_lstm.onnx', 'wb') as f:\n",
        "    f.write(onnx_dl_lstm.SerializeToString())"
      ]
    },
    {
      "cell_type": "code",
      "execution_count": null,
      "metadata": {
        "colab": {
          "base_uri": "https://localhost:8080/"
        },
        "id": "EcU-3DyIKIbs",
        "outputId": "51cfcfad-0835-48f5-c5db-8092ed5a4c83"
      },
      "outputs": [
        {
          "name": "stdout",
          "output_type": "stream",
          "text": [
            "57/57 [==============================] - 4s 35ms/step\n",
            "Your preprocessor is now saved to 'preprocessor.zip'\n",
            "Insert search tags to help users find your model (optional): \n",
            "Provide any useful notes about your model (optional): \n",
            "\n",
            "Your model has been submitted as model version 521\n",
            "\n",
            "To submit code used to create this model or to view current leaderboard navigate to Model Playground: \n",
            "\n",
            " https://www.modelshare.ai/detail/model:2763\n"
          ]
        }
      ],
      "source": [
        "# generate predicted values\n",
        "dl_lstm_prediction_labels = dl_lstm.predict(X_test_preproc)\n",
        "dl_lstm_prediction_labels\n",
        "\n",
        "# submit to leaderboard\n",
        "mycompetition.submit_model(model = 'dl_lstm.onnx',\n",
        "                                 preprocessor = preprocessor,\n",
        "                                 prediction_submission = dl_lstm_prediction_labels)"
      ]
    },
    {
      "cell_type": "code",
      "execution_count": null,
      "metadata": {
        "colab": {
          "base_uri": "https://localhost:8080/",
          "height": 169
        },
        "id": "qLl7yLpVEx26",
        "outputId": "c04ae065-7b98-456f-f7c7-40578c5b98f9"
      },
      "outputs": [
        {
          "data": {
            "text/html": [
              "<style type=\"text/css\">\n",
              "#T_c6209 caption {\n",
              "  color: black;\n",
              "  font-size: 18px;\n",
              "}\n",
              "#T_c6209_row0_col0, #T_c6209_row0_col3 {\n",
              "  background: #b3e2cd;\n",
              "  color: black;\n",
              "  color: black;\n",
              "}\n",
              "#T_c6209_row0_col1, #T_c6209_row0_col2, #T_c6209_row0_col4, #T_c6209_row0_col5, #T_c6209_row1_col1, #T_c6209_row1_col2, #T_c6209_row1_col4, #T_c6209_row1_col5, #T_c6209_row2_col1, #T_c6209_row2_col2, #T_c6209_row2_col4, #T_c6209_row2_col5, #T_c6209_row3_col0, #T_c6209_row3_col1, #T_c6209_row3_col2, #T_c6209_row3_col4, #T_c6209_row3_col5, #T_c6209_row4_col0, #T_c6209_row4_col1, #T_c6209_row4_col2, #T_c6209_row4_col4, #T_c6209_row4_col5 {\n",
              "  background: white;\n",
              "  color: black;\n",
              "  color: black;\n",
              "}\n",
              "#T_c6209_row1_col0, #T_c6209_row3_col3 {\n",
              "  background: nan;\n",
              "  color: black;\n",
              "  color: black;\n",
              "}\n",
              "#T_c6209_row1_col3, #T_c6209_row2_col3 {\n",
              "  background: #f1e2cc;\n",
              "  color: black;\n",
              "  color: black;\n",
              "}\n",
              "#T_c6209_row2_col0, #T_c6209_row4_col3 {\n",
              "  background: #fff2ae;\n",
              "  color: black;\n",
              "  color: black;\n",
              "}\n",
              "</style>\n",
              "<table id=\"T_c6209\">\n",
              "  <caption>Model type: Neural Network</caption>\n",
              "  <thead>\n",
              "    <tr>\n",
              "      <th class=\"blank level0\" >&nbsp;</th>\n",
              "      <th id=\"T_c6209_level0_col0\" class=\"col_heading level0 col0\" >Model_1_Layer</th>\n",
              "      <th id=\"T_c6209_level0_col1\" class=\"col_heading level0 col1\" >Model_1_Shape</th>\n",
              "      <th id=\"T_c6209_level0_col2\" class=\"col_heading level0 col2\" >Model_1_Params</th>\n",
              "      <th id=\"T_c6209_level0_col3\" class=\"col_heading level0 col3\" >Model_2_Layer</th>\n",
              "      <th id=\"T_c6209_level0_col4\" class=\"col_heading level0 col4\" >Model_2_Shape</th>\n",
              "      <th id=\"T_c6209_level0_col5\" class=\"col_heading level0 col5\" >Model_2_Params</th>\n",
              "    </tr>\n",
              "  </thead>\n",
              "  <tbody>\n",
              "    <tr>\n",
              "      <th id=\"T_c6209_level0_row0\" class=\"row_heading level0 row0\" >0</th>\n",
              "      <td id=\"T_c6209_row0_col0\" class=\"data row0 col0\" >Embedding</td>\n",
              "      <td id=\"T_c6209_row0_col1\" class=\"data row0 col1\" >[None, 40, 16]</td>\n",
              "      <td id=\"T_c6209_row0_col2\" class=\"data row0 col2\" >160000.000000</td>\n",
              "      <td id=\"T_c6209_row0_col3\" class=\"data row0 col3\" >Embedding</td>\n",
              "      <td id=\"T_c6209_row0_col4\" class=\"data row0 col4\" >[None, 40, 16]</td>\n",
              "      <td id=\"T_c6209_row0_col5\" class=\"data row0 col5\" >160000</td>\n",
              "    </tr>\n",
              "    <tr>\n",
              "      <th id=\"T_c6209_level0_row1\" class=\"row_heading level0 row1\" >1</th>\n",
              "      <td id=\"T_c6209_row1_col0\" class=\"data row1 col0\" >Flatten</td>\n",
              "      <td id=\"T_c6209_row1_col1\" class=\"data row1 col1\" >[None, 640]</td>\n",
              "      <td id=\"T_c6209_row1_col2\" class=\"data row1 col2\" >0.000000</td>\n",
              "      <td id=\"T_c6209_row1_col3\" class=\"data row1 col3\" >LSTM</td>\n",
              "      <td id=\"T_c6209_row1_col4\" class=\"data row1 col4\" >[None, 40, 32]</td>\n",
              "      <td id=\"T_c6209_row1_col5\" class=\"data row1 col5\" >6272</td>\n",
              "    </tr>\n",
              "    <tr>\n",
              "      <th id=\"T_c6209_level0_row2\" class=\"row_heading level0 row2\" >2</th>\n",
              "      <td id=\"T_c6209_row2_col0\" class=\"data row2 col0\" >Dense</td>\n",
              "      <td id=\"T_c6209_row2_col1\" class=\"data row2 col1\" >[None, 2]</td>\n",
              "      <td id=\"T_c6209_row2_col2\" class=\"data row2 col2\" >1282.000000</td>\n",
              "      <td id=\"T_c6209_row2_col3\" class=\"data row2 col3\" >LSTM</td>\n",
              "      <td id=\"T_c6209_row2_col4\" class=\"data row2 col4\" >[None, 32]</td>\n",
              "      <td id=\"T_c6209_row2_col5\" class=\"data row2 col5\" >8320</td>\n",
              "    </tr>\n",
              "    <tr>\n",
              "      <th id=\"T_c6209_level0_row3\" class=\"row_heading level0 row3\" >3</th>\n",
              "      <td id=\"T_c6209_row3_col0\" class=\"data row3 col0\" >None</td>\n",
              "      <td id=\"T_c6209_row3_col1\" class=\"data row3 col1\" >None</td>\n",
              "      <td id=\"T_c6209_row3_col2\" class=\"data row3 col2\" >nan</td>\n",
              "      <td id=\"T_c6209_row3_col3\" class=\"data row3 col3\" >Flatten</td>\n",
              "      <td id=\"T_c6209_row3_col4\" class=\"data row3 col4\" >[None, 32]</td>\n",
              "      <td id=\"T_c6209_row3_col5\" class=\"data row3 col5\" >0</td>\n",
              "    </tr>\n",
              "    <tr>\n",
              "      <th id=\"T_c6209_level0_row4\" class=\"row_heading level0 row4\" >4</th>\n",
              "      <td id=\"T_c6209_row4_col0\" class=\"data row4 col0\" >None</td>\n",
              "      <td id=\"T_c6209_row4_col1\" class=\"data row4 col1\" >None</td>\n",
              "      <td id=\"T_c6209_row4_col2\" class=\"data row4 col2\" >nan</td>\n",
              "      <td id=\"T_c6209_row4_col3\" class=\"data row4 col3\" >Dense</td>\n",
              "      <td id=\"T_c6209_row4_col4\" class=\"data row4 col4\" >[None, 2]</td>\n",
              "      <td id=\"T_c6209_row4_col5\" class=\"data row4 col5\" >66</td>\n",
              "    </tr>\n",
              "  </tbody>\n",
              "</table>\n"
            ],
            "text/plain": [
              "<IPython.core.display.HTML object>"
            ]
          },
          "metadata": {},
          "output_type": "display_data"
        }
      ],
      "source": [
        "# compare models from competition\n",
        "data = mycompetition.compare_models([1, 2], verbose = 1)\n",
        "mycompetition.stylize_compare(data)"
      ]
    },
    {
      "cell_type": "markdown",
      "metadata": {
        "id": "-nU8VR9uT3OJ"
      },
      "source": [
        "## Additional models"
      ]
    },
    {
      "cell_type": "code",
      "execution_count": null,
      "metadata": {
        "colab": {
          "base_uri": "https://localhost:8080/"
        },
        "id": "MOGXwppct0KI",
        "outputId": "e8c3fa61-caec-4657-ad2c-c928c8f2388f"
      },
      "outputs": [
        {
          "name": "stdout",
          "output_type": "stream",
          "text": [
            "Collecting keras_tuner\n",
            "  Downloading keras_tuner-1.4.7-py3-none-any.whl (129 kB)\n",
            "\u001b[2K     \u001b[90m━━━━━━━━━━━━━━━━━━━━━━━━━━━━━━━━━━━━━━━━\u001b[0m \u001b[32m129.1/129.1 kB\u001b[0m \u001b[31m1.4 MB/s\u001b[0m eta \u001b[36m0:00:00\u001b[0m\n",
            "\u001b[?25hRequirement already satisfied: keras in /usr/local/lib/python3.10/dist-packages (from keras_tuner) (2.15.0)\n",
            "Requirement already satisfied: packaging in /usr/local/lib/python3.10/dist-packages (from keras_tuner) (24.0)\n",
            "Requirement already satisfied: requests in /usr/local/lib/python3.10/dist-packages (from keras_tuner) (2.31.0)\n",
            "Collecting kt-legacy (from keras_tuner)\n",
            "  Downloading kt_legacy-1.0.5-py3-none-any.whl (9.6 kB)\n",
            "Requirement already satisfied: charset-normalizer<4,>=2 in /usr/local/lib/python3.10/dist-packages (from requests->keras_tuner) (3.3.2)\n",
            "Requirement already satisfied: idna<4,>=2.5 in /usr/local/lib/python3.10/dist-packages (from requests->keras_tuner) (3.7)\n",
            "Requirement already satisfied: urllib3<3,>=1.21.1 in /usr/local/lib/python3.10/dist-packages (from requests->keras_tuner) (1.26.18)\n",
            "Requirement already satisfied: certifi>=2017.4.17 in /usr/local/lib/python3.10/dist-packages (from requests->keras_tuner) (2024.2.2)\n",
            "Installing collected packages: kt-legacy, keras_tuner\n",
            "Successfully installed keras_tuner-1.4.7 kt-legacy-1.0.5\n"
          ]
        }
      ],
      "source": [
        "! pip install keras_tuner"
      ]
    },
    {
      "cell_type": "markdown",
      "source": [
        "**Deep Learning -- Conv1D**"
      ],
      "metadata": {
        "id": "mGsrI0IUDL72"
      }
    },
    {
      "cell_type": "code",
      "execution_count": 31,
      "metadata": {
        "id": "b-OeMcYsylAp"
      },
      "outputs": [],
      "source": [
        "from tensorflow.keras.layers import Conv1D, Dense, Embedding, Flatten\n",
        "from tensorflow.keras.models import Sequential"
      ]
    },
    {
      "cell_type": "code",
      "source": [
        "# deep learning model with conv1D\n",
        "np.random.seed(5)\n",
        "\n",
        "import tensorflow as tf\n",
        "\n",
        "# define model\n",
        "dl_conv1d = tf.keras.Sequential([\n",
        "    tf.keras.layers.Embedding(input_dim = 5000, output_dim = 50, input_length = 40),\n",
        "    tf.keras.layers.Conv1D(kernel_size = 20, filters = 32, activation = 'softmax'),\n",
        "    tf.keras.layers.Flatten(),\n",
        "    tf.keras.layers.Dense(2, activation = 'sigmoid') # use sigmoid for binary classification\n",
        "  ])\n",
        "\n",
        "# compile model\n",
        "dl_conv1d.compile(optimizer = 'adam',\n",
        "              loss = 'categorical_crossentropy',\n",
        "              metrics = ['accuracy'])\n",
        "\n",
        "# fit model\n",
        "hist_dl_conv1d = dl_conv1d.fit(X_train_preproc,\n",
        "                           y_train_labels_enc,\n",
        "                           epochs = 15,\n",
        "                           verbose = 1,\n",
        "                           validation_split = 0.2)"
      ],
      "metadata": {
        "colab": {
          "base_uri": "https://localhost:8080/"
        },
        "id": "gum9l48OeoGw",
        "outputId": "53527cef-0013-49bb-a0b8-adc939b6673d"
      },
      "execution_count": 32,
      "outputs": [
        {
          "output_type": "stream",
          "name": "stdout",
          "text": [
            "Epoch 1/15\n",
            "173/173 [==============================] - 3s 13ms/step - loss: 0.6676 - accuracy: 0.6149 - val_loss: 0.9047 - val_accuracy: 0.1488\n",
            "Epoch 2/15\n",
            "173/173 [==============================] - 2s 13ms/step - loss: 0.5602 - accuracy: 0.6954 - val_loss: 0.7784 - val_accuracy: 0.5376\n",
            "Epoch 3/15\n",
            "173/173 [==============================] - 3s 18ms/step - loss: 0.3945 - accuracy: 0.8186 - val_loss: 0.5251 - val_accuracy: 0.7652\n",
            "Epoch 4/15\n",
            "173/173 [==============================] - 4s 23ms/step - loss: 0.3305 - accuracy: 0.8524 - val_loss: 0.7895 - val_accuracy: 0.6171\n",
            "Epoch 5/15\n",
            "173/173 [==============================] - 2s 13ms/step - loss: 0.2931 - accuracy: 0.8757 - val_loss: 0.7560 - val_accuracy: 0.6698\n",
            "Epoch 6/15\n",
            "173/173 [==============================] - 2s 12ms/step - loss: 0.2619 - accuracy: 0.8947 - val_loss: 0.6931 - val_accuracy: 0.7225\n",
            "Epoch 7/15\n",
            "173/173 [==============================] - 2s 13ms/step - loss: 0.2345 - accuracy: 0.9091 - val_loss: 0.6346 - val_accuracy: 0.7464\n",
            "Epoch 8/15\n",
            "173/173 [==============================] - 2s 14ms/step - loss: 0.2002 - accuracy: 0.9265 - val_loss: 0.6837 - val_accuracy: 0.7522\n",
            "Epoch 9/15\n",
            "173/173 [==============================] - 3s 17ms/step - loss: 0.1692 - accuracy: 0.9406 - val_loss: 0.8280 - val_accuracy: 0.7124\n",
            "Epoch 10/15\n",
            "173/173 [==============================] - 2s 13ms/step - loss: 0.1391 - accuracy: 0.9547 - val_loss: 0.9047 - val_accuracy: 0.6929\n",
            "Epoch 11/15\n",
            "173/173 [==============================] - 2s 13ms/step - loss: 0.1111 - accuracy: 0.9668 - val_loss: 0.9617 - val_accuracy: 0.6944\n",
            "Epoch 12/15\n",
            "173/173 [==============================] - 2s 13ms/step - loss: 0.0883 - accuracy: 0.9763 - val_loss: 1.0660 - val_accuracy: 0.6958\n",
            "Epoch 13/15\n",
            "173/173 [==============================] - 2s 13ms/step - loss: 0.0721 - accuracy: 0.9798 - val_loss: 0.9589 - val_accuracy: 0.7334\n",
            "Epoch 14/15\n",
            "173/173 [==============================] - 3s 19ms/step - loss: 0.0577 - accuracy: 0.9841 - val_loss: 1.2084 - val_accuracy: 0.6980\n",
            "Epoch 15/15\n",
            "173/173 [==============================] - 2s 12ms/step - loss: 0.0462 - accuracy: 0.9883 - val_loss: 1.2640 - val_accuracy: 0.6770\n"
          ]
        }
      ]
    },
    {
      "cell_type": "code",
      "execution_count": null,
      "metadata": {
        "colab": {
          "base_uri": "https://localhost:8080/"
        },
        "id": "FyL2lVkPylAr",
        "outputId": "fe7261cb-5878-469f-c710-1b5354f7031f"
      },
      "outputs": [
        {
          "name": "stdout",
          "output_type": "stream",
          "text": [
            "Model: \"sequential_54\"\n",
            "_________________________________________________________________\n",
            " Layer (type)                Output Shape              Param #   \n",
            "=================================================================\n",
            " embedding_62 (Embedding)    (None, 40, 50)            250000    \n",
            "                                                                 \n",
            " conv1d_57 (Conv1D)          (None, 21, 32)            32032     \n",
            "                                                                 \n",
            " flatten_17 (Flatten)        (None, 672)               0         \n",
            "                                                                 \n",
            " dense_54 (Dense)            (None, 2)                 1346      \n",
            "                                                                 \n",
            "=================================================================\n",
            "Total params: 283378 (1.08 MB)\n",
            "Trainable params: 283378 (1.08 MB)\n",
            "Non-trainable params: 0 (0.00 Byte)\n",
            "_________________________________________________________________\n"
          ]
        }
      ],
      "source": [
        "# return model summary\n",
        "dl_conv1d.summary()"
      ]
    },
    {
      "cell_type": "code",
      "execution_count": 33,
      "metadata": {
        "id": "3yfRqMbZylAr"
      },
      "outputs": [],
      "source": [
        "# save model and model history\n",
        "dl_conv1d.save('dl_conv1d.keras')\n",
        "dl_conv1d.save('dl_conv1d.h5')\n",
        "\n",
        "np.save('dl_conv1d_hist.npy', dl_conv1d.history)"
      ]
    },
    {
      "cell_type": "code",
      "execution_count": 48,
      "metadata": {
        "colab": {
          "base_uri": "https://localhost:8080/",
          "height": 699
        },
        "id": "r2tUchz8ylAr",
        "outputId": "779d8aba-4d01-4bdd-fdd2-8f5489c88dc3"
      },
      "outputs": [
        {
          "output_type": "display_data",
          "data": {
            "text/plain": [
              "<Figure size 800x800 with 2 Axes>"
            ],
            "image/png": "[encoded data removed]"
          },
          "metadata": {}
        }
      ],
      "source": [
        "# plot history\n",
        "import matplotlib.pyplot as plt\n",
        "\n",
        "train_acc_dl_conv1d = hist_dl_conv1d.history['accuracy']\n",
        "valid_acc_dl_conv1d = hist_dl_conv1d.history['val_accuracy']\n",
        "\n",
        "train_loss_dl_conv1d = hist_dl_conv1d.history['loss']\n",
        "valid_loss_dl_conv1d = hist_dl_conv1d.history['val_loss']\n",
        "\n",
        "epochs_range = range(15)\n",
        "\n",
        "plt.figure(figsize = (8, 8))\n",
        "plt.subplot(1, 2, 1)\n",
        "plt.plot(epochs_range, train_acc_dl_conv1d, label = 'Training Accuracy')\n",
        "plt.plot(epochs_range, valid_acc_dl_conv1d, label = 'Validation Accuracy')\n",
        "plt.legend(loc = 'lower right')\n",
        "plt.title('Training and Validation Accuracy')\n",
        "\n",
        "plt.subplot(1, 2, 2)\n",
        "plt.plot(epochs_range, train_loss_dl_conv1d, label = 'Training Loss')\n",
        "plt.plot(epochs_range, valid_loss_dl_conv1d, label = 'Validation Loss')\n",
        "plt.legend(loc = 'upper right')\n",
        "plt.title('Training and Validation Loss')\n",
        "\n",
        "plt.show()"
      ]
    },
    {
      "cell_type": "markdown",
      "source": [
        "**Transfer Learning -- GloVe Embeddings**"
      ],
      "metadata": {
        "id": "VVBzPapaDeRh"
      }
    },
    {
      "cell_type": "code",
      "source": [
        "# keras docs: https://blog.keras.io/using-pre-trained-word-embeddings-in-a-keras-model.html"
      ],
      "metadata": {
        "id": "TrzHYCt5Dw6v"
      },
      "execution_count": null,
      "outputs": []
    },
    {
      "cell_type": "code",
      "execution_count": 34,
      "metadata": {
        "colab": {
          "base_uri": "https://localhost:8080/"
        },
        "id": "gwLqGlHgRrUU",
        "outputId": "c97561d6-1c21-4dd0-a442-a44fb2bf42ad"
      },
      "outputs": [
        {
          "output_type": "stream",
          "name": "stdout",
          "text": [
            "--2024-05-01 00:20:11--  https://nlp.stanford.edu/data/glove.6B.zip\n",
            "Resolving nlp.stanford.edu (nlp.stanford.edu)... 171.64.67.140\n",
            "Connecting to nlp.stanford.edu (nlp.stanford.edu)|171.64.67.140|:443... connected.\n",
            "HTTP request sent, awaiting response... 301 Moved Permanently\n",
            "Location: https://downloads.cs.stanford.edu/nlp/data/glove.6B.zip [following]\n",
            "--2024-05-01 00:20:12--  https://downloads.cs.stanford.edu/nlp/data/glove.6B.zip\n",
            "Resolving downloads.cs.stanford.edu (downloads.cs.stanford.edu)... 171.64.64.22\n",
            "Connecting to downloads.cs.stanford.edu (downloads.cs.stanford.edu)|171.64.64.22|:443... connected.\n",
            "HTTP request sent, awaiting response... 200 OK\n",
            "Length: 862182613 (822M) [application/zip]\n",
            "Saving to: ‘glove.6B.zip’\n",
            "\n",
            "glove.6B.zip        100%[===================>] 822.24M  5.03MB/s    in 2m 39s  \n",
            "\n",
            "2024-05-01 00:22:51 (5.17 MB/s) - ‘glove.6B.zip’ saved [862182613/862182613]\n",
            "\n"
          ]
        }
      ],
      "source": [
        "# retrieve glove embeddings from Stanford\n",
        "! wget https://nlp.stanford.edu/data/glove.6B.zip"
      ]
    },
    {
      "cell_type": "code",
      "execution_count": 54,
      "metadata": {
        "id": "-sb9bSsHOa8c"
      },
      "outputs": [],
      "source": [
        "! unzip glove.6B.zip"
      ]
    },
    {
      "cell_type": "code",
      "execution_count": 36,
      "metadata": {
        "id": "4LaCPzreXy7k"
      },
      "outputs": [],
      "source": [
        "glove_data = '/content/glove.6B.100d.txt'\n",
        "glove_file = open(glove_data, 'r')"
      ]
    },
    {
      "cell_type": "code",
      "execution_count": 37,
      "metadata": {
        "id": "_h8EnImaTIr2"
      },
      "outputs": [],
      "source": [
        "# map words to embeddings\n",
        "embeddings_index = {}\n",
        "\n",
        "for line in glove_file:\n",
        "    values = line.split()\n",
        "    word = values[0]\n",
        "    coefs = np.asarray(values[1:], dtype = 'float32')\n",
        "    embeddings_index[word] = coefs\n",
        "\n",
        "glove_file.close()"
      ]
    },
    {
      "cell_type": "code",
      "execution_count": 42,
      "metadata": {
        "id": "i5g9MYYibmom"
      },
      "outputs": [],
      "source": [
        "# create embedding matrix\n",
        "embedding_matrix = np.zeros((len(tokenizer.word_index) + 1, 100))\n",
        "for word, i in tokenizer.word_index.items():\n",
        "    embedding_vector = embeddings_index.get(word)\n",
        "    if embedding_vector is not None:\n",
        "        embedding_matrix[i] = embedding_vector"
      ]
    },
    {
      "cell_type": "code",
      "execution_count": 43,
      "metadata": {
        "id": "Fbsecpj2heE0"
      },
      "outputs": [],
      "source": [
        "from keras.layers import Embedding\n",
        "\n",
        "embedding_layer = Embedding(len(tokenizer.word_index) + 1, 100,\n",
        "                            weights = [embedding_matrix],\n",
        "                            input_length = 40,\n",
        "                            trainable = False)"
      ]
    },
    {
      "cell_type": "code",
      "source": [
        "# transfer learning model with glove embeddings\n",
        "np.random.seed(5)\n",
        "\n",
        "import tensorflow as tf\n",
        "\n",
        "# define model\n",
        "tl_glove = tf.keras.Sequential([\n",
        "    tf.keras.layers.Embedding(len(tokenizer.word_index) + 1, 100,\n",
        "                            weights = [embedding_matrix],\n",
        "                            input_length = 40,\n",
        "                            trainable = False),\n",
        "    tf.keras.layers.Conv1D(kernel_size = 10, filters = 32, activation = 'softmax'),\n",
        "    tf.keras.layers.MaxPooling1D(3),\n",
        "    tf.keras.layers.Conv1D(kernel_size = 10, filters = 32, activation = 'softmax'),\n",
        "    tf.keras.layers.Flatten(),\n",
        "    tf.keras.layers.Dense(2, activation = 'sigmoid') # use sigmoid for binary classification\n",
        "  ])\n",
        "\n",
        "# compile model\n",
        "tl_glove.compile(optimizer = 'adam',\n",
        "              loss = 'categorical_crossentropy',\n",
        "              metrics = ['accuracy'])\n",
        "\n",
        "# fit model\n",
        "hist_tl_glove = tl_glove.fit(X_train_preproc,\n",
        "                           y_train_labels_enc,\n",
        "                           epochs = 15,\n",
        "                           verbose = 1,\n",
        "                           validation_split = 0.2)"
      ],
      "metadata": {
        "colab": {
          "base_uri": "https://localhost:8080/"
        },
        "id": "QuMmBwp1h2Mp",
        "outputId": "823b0004-9c41-4979-c2ca-c6e0f124b9c0"
      },
      "execution_count": 44,
      "outputs": [
        {
          "output_type": "stream",
          "name": "stdout",
          "text": [
            "Epoch 1/15\n",
            "173/173 [==============================] - 3s 12ms/step - loss: 0.6682 - accuracy: 0.6149 - val_loss: 0.8521 - val_accuracy: 0.1488\n",
            "Epoch 2/15\n",
            "173/173 [==============================] - 2s 11ms/step - loss: 0.6450 - accuracy: 0.6167 - val_loss: 0.7901 - val_accuracy: 0.2753\n",
            "Epoch 3/15\n",
            "173/173 [==============================] - 2s 11ms/step - loss: 0.5904 - accuracy: 0.6850 - val_loss: 0.7830 - val_accuracy: 0.4964\n",
            "Epoch 4/15\n",
            "173/173 [==============================] - 3s 16ms/step - loss: 0.5382 - accuracy: 0.7404 - val_loss: 0.7028 - val_accuracy: 0.6236\n",
            "Epoch 5/15\n",
            "173/173 [==============================] - 3s 18ms/step - loss: 0.5014 - accuracy: 0.7681 - val_loss: 0.6736 - val_accuracy: 0.6669\n",
            "Epoch 6/15\n",
            "173/173 [==============================] - 3s 17ms/step - loss: 0.4698 - accuracy: 0.7948 - val_loss: 0.7354 - val_accuracy: 0.6322\n",
            "Epoch 7/15\n",
            "173/173 [==============================] - 3s 17ms/step - loss: 0.4443 - accuracy: 0.8114 - val_loss: 0.6352 - val_accuracy: 0.7124\n",
            "Epoch 8/15\n",
            "173/173 [==============================] - 3s 16ms/step - loss: 0.4140 - accuracy: 0.8320 - val_loss: 0.6224 - val_accuracy: 0.7168\n",
            "Epoch 9/15\n",
            "173/173 [==============================] - 3s 16ms/step - loss: 0.3873 - accuracy: 0.8456 - val_loss: 0.7264 - val_accuracy: 0.6597\n",
            "Epoch 10/15\n",
            "173/173 [==============================] - 3s 16ms/step - loss: 0.3557 - accuracy: 0.8674 - val_loss: 0.6891 - val_accuracy: 0.6936\n",
            "Epoch 11/15\n",
            "173/173 [==============================] - 2s 11ms/step - loss: 0.3229 - accuracy: 0.8840 - val_loss: 0.8434 - val_accuracy: 0.6105\n",
            "Epoch 12/15\n",
            "173/173 [==============================] - 2s 11ms/step - loss: 0.3015 - accuracy: 0.8927 - val_loss: 0.7895 - val_accuracy: 0.6496\n",
            "Epoch 13/15\n",
            "173/173 [==============================] - 2s 10ms/step - loss: 0.2678 - accuracy: 0.9133 - val_loss: 0.7263 - val_accuracy: 0.6944\n",
            "Epoch 14/15\n",
            "173/173 [==============================] - 2s 10ms/step - loss: 0.2334 - accuracy: 0.9305 - val_loss: 0.8399 - val_accuracy: 0.6460\n",
            "Epoch 15/15\n",
            "173/173 [==============================] - 2s 10ms/step - loss: 0.2134 - accuracy: 0.9380 - val_loss: 0.8143 - val_accuracy: 0.6712\n"
          ]
        }
      ]
    },
    {
      "cell_type": "code",
      "execution_count": null,
      "metadata": {
        "colab": {
          "base_uri": "https://localhost:8080/"
        },
        "id": "Dz4tTwutnXF5",
        "outputId": "d94f40dc-5c79-4548-8684-a8c0fd49c277"
      },
      "outputs": [
        {
          "name": "stdout",
          "output_type": "stream",
          "text": [
            "Model: \"sequential_95\"\n",
            "_________________________________________________________________\n",
            " Layer (type)                Output Shape              Param #   \n",
            "=================================================================\n",
            " embedding_104 (Embedding)   (None, 40, 100)           1383700   \n",
            "                                                                 \n",
            " conv1d_136 (Conv1D)         (None, 31, 32)            32032     \n",
            "                                                                 \n",
            " max_pooling1d_49 (MaxPooli  (None, 10, 32)            0         \n",
            " ng1D)                                                           \n",
            "                                                                 \n",
            " conv1d_137 (Conv1D)         (None, 1, 32)             10272     \n",
            "                                                                 \n",
            " flatten_58 (Flatten)        (None, 32)                0         \n",
            "                                                                 \n",
            " dense_95 (Dense)            (None, 2)                 66        \n",
            "                                                                 \n",
            "=================================================================\n",
            "Total params: 1426070 (5.44 MB)\n",
            "Trainable params: 42370 (165.51 KB)\n",
            "Non-trainable params: 1383700 (5.28 MB)\n",
            "_________________________________________________________________\n"
          ]
        }
      ],
      "source": [
        "# return model summary\n",
        "tl_glove.summary()"
      ]
    },
    {
      "cell_type": "code",
      "execution_count": 45,
      "metadata": {
        "id": "qL6xv6CEnXF5"
      },
      "outputs": [],
      "source": [
        "# save model and model history\n",
        "tl_glove.save('tl_glove.keras')\n",
        "tl_glove.save('tl_glove.h5')\n",
        "\n",
        "np.save('tl_glove_hist.npy', tl_glove.history)"
      ]
    },
    {
      "cell_type": "code",
      "source": [
        "import matplotlib.pyplot as plt\n",
        "\n",
        "train_acc_tl_glove = hist_tl_glove.history['accuracy']\n",
        "valid_acc_tl_glove = hist_tl_glove.history['val_accuracy']\n",
        "\n",
        "train_loss_tl_glove = hist_tl_glove.history['loss']\n",
        "valid_loss_tl_glove = hist_tl_glove.history['val_loss']\n",
        "\n",
        "epochs_range = range(15)\n",
        "\n",
        "plt.figure(figsize = (8, 8))\n",
        "plt.subplot(1, 2, 1)\n",
        "plt.plot(epochs_range, train_acc_tl_glove, label = 'Training Accuracy')\n",
        "plt.plot(epochs_range, valid_acc_tl_glove, label = 'Validation Accuracy')\n",
        "plt.legend(loc = 'lower right')\n",
        "plt.title('Training and Validation Accuracy')\n",
        "\n",
        "plt.subplot(1, 2, 2)\n",
        "plt.plot(epochs_range, train_loss_tl_glove, label = 'Training Loss')\n",
        "plt.plot(epochs_range, valid_loss_tl_glove, label = 'Validation Loss')\n",
        "plt.legend(loc = 'upper right')\n",
        "plt.title('Training and Validation Loss')\n",
        "\n",
        "plt.show()"
      ],
      "metadata": {
        "colab": {
          "base_uri": "https://localhost:8080/",
          "height": 699
        },
        "id": "qf8n-Q0K54YL",
        "outputId": "96e77835-377c-4986-850f-f89759fd4c1f"
      },
      "execution_count": 50,
      "outputs": [
        {
          "output_type": "display_data",
          "data": {
            "text/plain": [
              "<Figure size 800x800 with 2 Axes>"
            ],
            "image/png": "[encoded data removed]"
          },
          "metadata": {}
        }
      ]
    },
    {
      "cell_type": "markdown",
      "source": [
        "**BERT classifier**"
      ],
      "metadata": {
        "id": "EgNtVY4iD0oQ"
      }
    },
    {
      "cell_type": "code",
      "execution_count": null,
      "metadata": {
        "id": "SmWC5tG0J_nK"
      },
      "outputs": [],
      "source": [
        "# keras docs: https://keras.io/api/keras_nlp/models/bert/\n",
        "#             https://keras.io/api/keras_nlp/models/bert/bert_classifier/"
      ]
    },
    {
      "cell_type": "code",
      "execution_count": null,
      "metadata": {
        "id": "8h16Ko_GDcR7"
      },
      "outputs": [],
      "source": [
        "pip install -U 'tensorflow-text==2.13.*'"
      ]
    },
    {
      "cell_type": "code",
      "execution_count": null,
      "metadata": {
        "id": "piwvhOVwD_pv"
      },
      "outputs": [],
      "source": [
        "import keras_nlp"
      ]
    },
    {
      "cell_type": "code",
      "source": [
        "bert_tokenizer_prep = Tokenizer(num_words = 2000)\n",
        "bert_tokenizer_prep.fit_on_texts(X_train_list)"
      ],
      "metadata": {
        "id": "8zdxV_egRafv"
      },
      "execution_count": null,
      "outputs": []
    },
    {
      "cell_type": "code",
      "source": [
        "vocab = X_train.to_list()"
      ],
      "metadata": {
        "id": "eTQk-bBqRoGU"
      },
      "execution_count": null,
      "outputs": []
    },
    {
      "cell_type": "code",
      "execution_count": null,
      "metadata": {
        "id": "Eq5g79P0LHeC"
      },
      "outputs": [],
      "source": [
        "# define tokenizer and preprocessor\n",
        "vocab = X_train.to_list()\n",
        "\n",
        "bert_tokenizer = keras_nlp.models.BertTokenizer(\n",
        "    vocabulary = X_train)\n",
        "\n",
        "bert_preprocessor = keras_nlp.models.BertPreprocessor(\n",
        "    tokenizer = bert_tokenizer,\n",
        "    sequence_length = 40)"
      ]
    },
    {
      "cell_type": "code",
      "execution_count": null,
      "metadata": {
        "id": "0lCKgGDL3wS8"
      },
      "outputs": [],
      "source": [
        "# define model\n",
        "tl_bert = keras_nlp.models.BertClassifier.from_preset(\n",
        "    preset = 'bert_base_en_uncased',\n",
        "    preprocessor = bert_preprocessor,\n",
        "    num_classes = 2\n",
        "    )"
      ]
    },
    {
      "cell_type": "code",
      "source": [
        "# compile model\n",
        "tl_bert.compile(optimizer = 'adam',\n",
        "              loss = 'categorical_crossentropy',\n",
        "              metrics = ['accuracy'])"
      ],
      "metadata": {
        "id": "ZK0wNv3hEO5x"
      },
      "execution_count": null,
      "outputs": []
    },
    {
      "cell_type": "code",
      "execution_count": null,
      "metadata": {
        "id": "4zh1mlIgKs6C"
      },
      "outputs": [],
      "source": [
        "# fit model\n",
        "hist_tl_bert = tl_bert.fit(X_train_preproc,\n",
        "                           y_train_labels_enc,\n",
        "                           epochs = 15,\n",
        "                           verbose = 1,\n",
        "                           validation_split = 0.2\n",
        "                           )"
      ]
    },
    {
      "cell_type": "markdown",
      "metadata": {
        "id": "E15c5GrbKT_D"
      },
      "source": [
        "**Results and discussion**"
      ]
    },
    {
      "cell_type": "markdown",
      "metadata": {
        "id": "-NH7R7sNLGLK"
      },
      "source": [
        "The deep learning model with LSTM exhibits the highest validation accuracies across training epochs among the four models. LSTM models are able to effectively address the vanishing gradient problem, and can offer an improvement over standard deep learning models.\n",
        "\n",
        "Training and validation loss and accuracy reports are shown below for each of the models (i.e. deep learning base model, deep learning model with LSTM, deep learning model with Conv1D, and transfer learning with GloVe embeddings model)."
      ]
    },
    {
      "cell_type": "code",
      "execution_count": null,
      "metadata": {
        "id": "QHqUYlMhGHJE"
      },
      "outputs": [],
      "source": [
        "from tabulate import tabulate"
      ]
    },
    {
      "cell_type": "code",
      "execution_count": null,
      "metadata": {
        "colab": {
          "base_uri": "https://localhost:8080/"
        },
        "id": "38wiznUaxckY",
        "outputId": "7ee20af2-710e-4a45-c261-0b02b7abbcc4"
      },
      "outputs": [
        {
          "name": "stdout",
          "output_type": "stream",
          "text": [
            " Deep Learning - Base Model: \n",
            " Training and Validation Performance \n",
            " \n",
            "      loss    accuracy    val_loss    val_accuracy\n",
            "---------  ----------  ----------  --------------\n",
            "0.663839     0.613981    0.881215        0.149566\n",
            "0.578607     0.685332    0.680989        0.567197\n",
            "0.436005     0.818822    0.60697         0.678468\n",
            "0.324698     0.883309    0.601026        0.70159\n",
            "0.247206     0.926662    0.710409        0.631503\n",
            "0.18469      0.953215    0.654773        0.677023\n",
            "0.13917      0.972001    0.667525        0.684249\n",
            "0.105705     0.983562    0.713388        0.669075\n",
            "0.0821104    0.988801    0.847892        0.640896\n",
            "0.0641857    0.992594    0.854056        0.645954\n",
            "0.0516909    0.994039    0.841701        0.664017\n",
            "0.042061     0.9944      0.899261        0.651734\n",
            "0.034227     0.996749    0.86239         0.684249\n",
            "0.0291353    0.996387    0.960078        0.654624\n",
            "0.024616     0.996387    0.979009        0.653179\n"
          ]
        }
      ],
      "source": [
        "table_dl_base = tabulate(hist_dl_base.history, hist_dl_base.history)\n",
        "print(' Deep Learning - Base Model: \\n Training and Validation Performance \\n \\n', table_dl_base)"
      ]
    },
    {
      "cell_type": "code",
      "execution_count": null,
      "metadata": {
        "colab": {
          "base_uri": "https://localhost:8080/"
        },
        "id": "qf1YA6KZxcCf",
        "outputId": "75b85eab-cae3-469a-a936-fc860aefdd61"
      },
      "outputs": [
        {
          "name": "stdout",
          "output_type": "stream",
          "text": [
            " Deep Learning - LSTM: \n",
            " Training and Validation Performance \n",
            " \n",
            "      loss    accuracy    val_loss    val_accuracy\n",
            "---------  ----------  ----------  --------------\n",
            "0.598679     0.674855    0.537009        0.763006\n",
            "0.411145     0.815571    0.595223        0.726156\n",
            "0.348055     0.842847    0.742616        0.71026\n",
            "0.31189      0.866149    0.488881        0.78685\n",
            "0.292935     0.871207    0.66908         0.755058\n",
            "0.253158     0.888006    1.22498         0.733382\n",
            "0.227023     0.896496    0.613672        0.736994\n",
            "0.215817     0.905347    1.72687         0.722543\n",
            "0.204816     0.905347    1.1865          0.721821\n",
            "0.160683     0.927746    2.14166         0.709538\n",
            "0.134999     0.939487    1.8005          0.698699\n",
            "0.114405     0.946893    2.20702         0.683526\n",
            "0.105335     0.952312    2.14521         0.712428\n",
            "0.0949006    0.958273    2.53658         0.672688\n",
            "0.0877251    0.96297     1.02515         0.738439\n"
          ]
        }
      ],
      "source": [
        "table_dl_lstm = tabulate(hist_dl_lstm.history, hist_dl_lstm.history)\n",
        "print(' Deep Learning - LSTM: \\n Training and Validation Performance \\n \\n', table_dl_lstm)"
      ]
    },
    {
      "cell_type": "code",
      "execution_count": null,
      "metadata": {
        "colab": {
          "base_uri": "https://localhost:8080/"
        },
        "id": "RG1YkYxhxbxW",
        "outputId": "49149b82-5550-4215-8fea-fab4862001f0"
      },
      "outputs": [
        {
          "name": "stdout",
          "output_type": "stream",
          "text": [
            " Deep Learning with Conv1D: \n",
            " Training and Validation Performance \n",
            " \n",
            "       loss    accuracy    val_loss    val_accuracy\n",
            "----------  ----------  ----------  --------------\n",
            "0.0405772     0.987536     1.2197         0.709538\n",
            "0.0297357     0.992052     1.73709        0.623555\n",
            "0.0245566     0.994039     1.41057        0.692197\n",
            "0.0192338     0.994581     1.556          0.674133\n",
            "0.0159054     0.994942     1.60857        0.671965\n",
            "0.0158975     0.994581     1.44555        0.71026\n",
            "0.0111283     0.997832     1.51995        0.691474\n",
            "0.0108735     0.99729      1.63566        0.686416\n",
            "0.0102662     0.996749     1.76127        0.671243\n",
            "0.0101036     0.996929     1.69208        0.684971\n",
            "0.00890751    0.99729      1.72304        0.696532\n",
            "0.00836212    0.997471     1.67466        0.689306\n",
            "0.00689404    0.998194     1.77283        0.693642\n",
            "0.00649418    0.998013     1.72011        0.706647\n",
            "0.00539055    0.998916     1.8849         0.680636\n"
          ]
        }
      ],
      "source": [
        "table_dl_conv1d = tabulate(hist_dl_conv1d.history, hist_dl_conv1d.history)\n",
        "print(' Deep Learning - Conv1D \\n Training and Validation Performance \\n \\n', table_dl_conv1d)"
      ]
    },
    {
      "cell_type": "code",
      "execution_count": null,
      "metadata": {
        "colab": {
          "base_uri": "https://localhost:8080/"
        },
        "id": "TnVGCF-Qv_xV",
        "outputId": "cc4f5515-2c91-44f3-c5b6-aff871eee2ef"
      },
      "outputs": [
        {
          "name": "stdout",
          "output_type": "stream",
          "text": [
            " Transfer Learning with GloVe Embeddings \n",
            " Training and Validation Performance \n",
            " \n",
            "     loss    accuracy    val_loss    val_accuracy\n",
            "--------  ----------  ----------  --------------\n",
            "0.670479    0.614884    0.854946        0.148844\n",
            "0.642723    0.615607    0.839807        0.197254\n",
            "0.598915    0.672507    0.743522        0.53685\n",
            "0.556944    0.718931    0.825719        0.517341\n",
            "0.522641    0.75289     0.700806        0.66185\n",
            "0.49798     0.772579    0.844863        0.556358\n",
            "0.460591    0.796423    0.61464         0.728324\n",
            "0.429733    0.815751    0.679498        0.680636\n",
            "0.39364     0.841221    0.649523        0.695087\n",
            "0.356449    0.864162    0.642763        0.708815\n",
            "0.32001     0.884574    0.842893        0.615607\n",
            "0.287242    0.905166    0.817666        0.636561\n",
            "0.256352    0.919617    0.632888        0.721098\n",
            "0.227497    0.932262    0.845186        0.641618\n",
            "0.199826    0.947977    0.737275        0.689306\n"
          ]
        }
      ],
      "source": [
        "table_tl_glove = tabulate(hist_tl_glove.history, hist_tl_glove.history)\n",
        "print(' Transfer Learning - GloVe Embeddings \\n Training and Validation Performance \\n \\n', table_tl_glove)"
      ]
    },
    {
      "cell_type": "markdown",
      "metadata": {
        "id": "1DfTz2lgAIqB"
      },
      "source": [
        "### For the inference pipeline, please see **assignment3_part2_group5_jc5635_frontend_inference_pipeline.ipynb** and associated **.py** files."
      ]
    }
  ],
  "metadata": {
    "colab": {
      "provenance": []
    },
    "kernelspec": {
      "display_name": "Python 3 (ipykernel)",
      "language": "python",
      "name": "python3"
    },
    "language_info": {
      "codemirror_mode": {
        "name": "ipython",
        "version": 3
      },
      "file_extension": ".py",
      "mimetype": "text/x-python",
      "name": "python",
      "nbconvert_exporter": "python",
      "pygments_lexer": "ipython3",
      "version": "3.11.5"
    }
  },
  "nbformat": 4,
  "nbformat_minor": 0
}