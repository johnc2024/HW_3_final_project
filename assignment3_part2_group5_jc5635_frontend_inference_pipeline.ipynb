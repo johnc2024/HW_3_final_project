{
  "cells": [
    {
      "cell_type": "markdown",
      "metadata": {
        "id": "vVFTG0FjBykl"
      },
      "source": [
        "<p align=\"center\"><h1 align=\"center\">QMSS5074GR <br> Projects in Advanced Machine Learning <br>Spring 2024 <br> FINAL PROJECT <br>Assignment 3 Part 2 Group 5<br>\n",
        "Inference Pipeline\n",
        "</h1>\n",
        "\n",
        "---\n",
        "<br>\n",
        "\n",
        "#### **Your UNI** : jc5635\n",
        "#### **Your Full Name** : John Cheng\n",
        "#### **Your AI Model Share Username**: jc5635\n",
        "#### **Link to Your Public Github Repository** : https://github.com/johnc2024/HW_3_final_project\n",
        "#### **Team Member Contribution Percentage** : 100%"
      ]
    },
    {
      "cell_type": "code",
      "source": [
        "# install aimodelshare for data import\n",
        "! pip install aimodelshare"
      ],
      "metadata": {
        "id": "lyufi8uOGeYd"
      },
      "execution_count": null,
      "outputs": []
    },
    {
      "cell_type": "code",
      "source": [
        "# mount google drive\n",
        "from google.colab import drive\n",
        "drive.mount('/content/gdrive/')"
      ],
      "metadata": {
        "colab": {
          "base_uri": "https://localhost:8080/"
        },
        "id": "rfQem5Y8usKT",
        "outputId": "42ecee82-de93-4a05-94ce-1fbd22834962"
      },
      "execution_count": 1,
      "outputs": [
        {
          "output_type": "stream",
          "name": "stdout",
          "text": [
            "Mounted at /content/gdrive/\n"
          ]
        }
      ]
    },
    {
      "cell_type": "code",
      "source": [
        "import sys\n",
        "sys.path.append('/content/gdrive/MyDrive/project3')"
      ],
      "metadata": {
        "id": "kIzRCok8xBjA"
      },
      "execution_count": 64,
      "outputs": []
    },
    {
      "cell_type": "code",
      "source": [
        "# load data X_train, X_test, y_train_labels\n",
        "X_train = pd.read_csv(\"sst2_competition_data/X_train.csv\")\n",
        "X_test = pd.read_csv(\"sst2_competition_data/X_test.csv\")\n",
        "y_train_labels = pd.read_csv(\"sst2_competition_data/y_train_labels.csv\")"
      ],
      "metadata": {
        "id": "SHCvDUCyzVEJ"
      },
      "execution_count": 102,
      "outputs": []
    },
    {
      "cell_type": "code",
      "source": [
        "X_train_list = X_train['text'].tolist()\n",
        "X_test_list = X_test['text'].tolist()"
      ],
      "metadata": {
        "id": "yEnLIFex1KoQ"
      },
      "execution_count": 71,
      "outputs": []
    },
    {
      "cell_type": "code",
      "source": [
        "# run .py preprocessor\n",
        "%run '/content/gdrive/MyDrive/project3/preproc.py'"
      ],
      "metadata": {
        "id": "7PAupU1d4kmK"
      },
      "execution_count": 91,
      "outputs": []
    },
    {
      "cell_type": "code",
      "source": [
        "from preproc import preprocessor, encoder\n",
        "\n",
        "X_train_preproc = preprocessor(X_train_list)\n",
        "X_test_preproc = preprocessor(X_test_list)"
      ],
      "metadata": {
        "id": "-qhGvFSkzN4p"
      },
      "execution_count": null,
      "outputs": []
    },
    {
      "cell_type": "code",
      "source": [
        "y_train_labels_enc = encoder(y_train_labels)"
      ],
      "metadata": {
        "id": "Al10kqWG1ZGr"
      },
      "execution_count": 77,
      "outputs": []
    },
    {
      "cell_type": "code",
      "source": [
        "# load y_test_labels\n",
        "dir_y_test = '/content/gdrive/MyDrive/project3/test_sample.csv'\n",
        "y_test_labels = pd.read_csv(dir_y_test).iloc[: , 1:].rename(columns = {'sentiment': 'label'})"
      ],
      "metadata": {
        "id": "i-6smnQbRQw6"
      },
      "execution_count": 88,
      "outputs": []
    },
    {
      "cell_type": "code",
      "source": [
        "# run .py encoder\n",
        "y_test_labels_enc = encoder(y_test_labels)"
      ],
      "metadata": {
        "id": "dzg2LrpDYZ5s"
      },
      "execution_count": 93,
      "outputs": []
    },
    {
      "cell_type": "code",
      "source": [
        "# load model weights\n",
        "from tensorflow.keras.models import load_model\n",
        "\n",
        "dl_base = load_model('/content/gdrive/MyDrive/project3/dl_base.h5')\n",
        "dl_lstm = load_model('/content/gdrive/MyDrive/project3/dl_lstm.h5')\n",
        "dl_conv1d = load_model('/content/gdrive/MyDrive/project3/dl_conv1d.h5')\n",
        "tl_glove = load_model('/content/gdrive/MyDrive/project3/tl_glove.h5')"
      ],
      "metadata": {
        "id": "fDYFoBJWOneS"
      },
      "execution_count": 94,
      "outputs": []
    },
    {
      "cell_type": "code",
      "source": [
        "# generate predictions on test data\n",
        "from sklearn.metrics import confusion_matrix\n",
        "\n",
        "y_pred_dl_base = dl_base.predict(X_test_preproc)\n",
        "y_pred_dl_lstm = dl_lstm.predict(X_test_preproc)\n",
        "y_pred_dl_conv1d = dl_conv1d.predict(X_test_preproc)\n",
        "y_pred_dl_conv1d = tl_glove.predict(X_test_preproc)"
      ],
      "metadata": {
        "id": "XLYeUPLLnuD_",
        "colab": {
          "base_uri": "https://localhost:8080/"
        },
        "outputId": "8135ad47-a42e-411c-df61-09e1f41a458c"
      },
      "execution_count": 96,
      "outputs": [
        {
          "output_type": "stream",
          "name": "stdout",
          "text": [
            "57/57 [==============================] - 0s 2ms/step\n",
            "57/57 [==============================] - 3s 34ms/step\n",
            "57/57 [==============================] - 0s 5ms/step\n",
            "57/57 [==============================] - 1s 9ms/step\n"
          ]
        }
      ]
    },
    {
      "cell_type": "code",
      "source": [
        "# generate confusion matrix reports\n",
        "dl_base_cm = confusion_matrix(y_test_labels, y_pred_dl_base)\n",
        "dl_lstm_cm = confusion_matrix(y_test_labels, y_pred_dl_base)\n",
        "dl_dl_conv1d = confusion_matrix(y_test_labels, y_pred_dl_base)\n",
        "dl_dl_conv1d = confusion_matrix(y_test_labels, y_pred_dl_base)\n",
        "\n",
        "# Note: X test and y test data are typically expected to have uniform lengths."
      ],
      "metadata": {
        "id": "d92C9DtOk8fx"
      },
      "execution_count": null,
      "outputs": []
    },
    {
      "cell_type": "code",
      "source": [
        "# generate requirements.txt\n",
        "! pip freeze > requirements.txt"
      ],
      "metadata": {
        "id": "NT1DYDqkUFA1"
      },
      "execution_count": 103,
      "outputs": []
    }
  ],
  "metadata": {
    "colab": {
      "provenance": []
    },
    "kernelspec": {
      "display_name": "Python 3 (ipykernel)",
      "language": "python",
      "name": "python3"
    },
    "language_info": {
      "codemirror_mode": {
        "name": "ipython",
        "version": 3
      },
      "file_extension": ".py",
      "mimetype": "text/x-python",
      "name": "python",
      "nbconvert_exporter": "python",
      "pygments_lexer": "ipython3",
      "version": "3.11.5"
    }
  },
  "nbformat": 4,
  "nbformat_minor": 0
}